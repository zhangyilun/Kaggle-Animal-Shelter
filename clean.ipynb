{
 "cells": [
  {
   "cell_type": "code",
   "execution_count": 69,
   "metadata": {
    "collapsed": true
   },
   "outputs": [],
   "source": [
    "# import \n",
    "import pandas as pd\n",
    "import numpy as np\n",
    "import datetime\n",
    "from dateutil.parser import parse\n",
    "import re\n",
    "\n",
    "import warnings\n",
    "warnings.filterwarnings('ignore')\n",
    "\n",
    "import matplotlib.pyplot as plt\n",
    "import matplotlib\n",
    "%matplotlib inline"
   ]
  },
  {
   "cell_type": "code",
   "execution_count": 70,
   "metadata": {
    "collapsed": true
   },
   "outputs": [],
   "source": [
    "# data\n",
    "train = pd.read_csv(\"data/train.csv\")\n",
    "test = pd.read_csv(\"data/test.csv\")"
   ]
  },
  {
   "cell_type": "code",
   "execution_count": 71,
   "metadata": {
    "collapsed": false
   },
   "outputs": [
    {
     "name": "stdout",
     "output_type": "stream",
     "text": [
      "(26729, 10)\n"
     ]
    },
    {
     "data": {
      "text/html": [
       "<div>\n",
       "<table border=\"1\" class=\"dataframe\">\n",
       "  <thead>\n",
       "    <tr style=\"text-align: right;\">\n",
       "      <th></th>\n",
       "      <th>0</th>\n",
       "      <th>1</th>\n",
       "      <th>2</th>\n",
       "      <th>3</th>\n",
       "      <th>4</th>\n",
       "    </tr>\n",
       "  </thead>\n",
       "  <tbody>\n",
       "    <tr>\n",
       "      <th>AnimalID</th>\n",
       "      <td>A671945</td>\n",
       "      <td>A656520</td>\n",
       "      <td>A686464</td>\n",
       "      <td>A683430</td>\n",
       "      <td>A667013</td>\n",
       "    </tr>\n",
       "    <tr>\n",
       "      <th>Name</th>\n",
       "      <td>Hambone</td>\n",
       "      <td>Emily</td>\n",
       "      <td>Pearce</td>\n",
       "      <td>NaN</td>\n",
       "      <td>NaN</td>\n",
       "    </tr>\n",
       "    <tr>\n",
       "      <th>DateTime</th>\n",
       "      <td>2014-02-12 18:22:00</td>\n",
       "      <td>2013-10-13 12:44:00</td>\n",
       "      <td>2015-01-31 12:28:00</td>\n",
       "      <td>2014-07-11 19:09:00</td>\n",
       "      <td>2013-11-15 12:52:00</td>\n",
       "    </tr>\n",
       "    <tr>\n",
       "      <th>OutcomeType</th>\n",
       "      <td>Return_to_owner</td>\n",
       "      <td>Euthanasia</td>\n",
       "      <td>Adoption</td>\n",
       "      <td>Transfer</td>\n",
       "      <td>Transfer</td>\n",
       "    </tr>\n",
       "    <tr>\n",
       "      <th>OutcomeSubtype</th>\n",
       "      <td>NaN</td>\n",
       "      <td>Suffering</td>\n",
       "      <td>Foster</td>\n",
       "      <td>Partner</td>\n",
       "      <td>Partner</td>\n",
       "    </tr>\n",
       "    <tr>\n",
       "      <th>AnimalType</th>\n",
       "      <td>Dog</td>\n",
       "      <td>Cat</td>\n",
       "      <td>Dog</td>\n",
       "      <td>Cat</td>\n",
       "      <td>Dog</td>\n",
       "    </tr>\n",
       "    <tr>\n",
       "      <th>SexuponOutcome</th>\n",
       "      <td>Neutered Male</td>\n",
       "      <td>Spayed Female</td>\n",
       "      <td>Neutered Male</td>\n",
       "      <td>Intact Male</td>\n",
       "      <td>Neutered Male</td>\n",
       "    </tr>\n",
       "    <tr>\n",
       "      <th>AgeuponOutcome</th>\n",
       "      <td>1 year</td>\n",
       "      <td>1 year</td>\n",
       "      <td>2 years</td>\n",
       "      <td>3 weeks</td>\n",
       "      <td>2 years</td>\n",
       "    </tr>\n",
       "    <tr>\n",
       "      <th>Breed</th>\n",
       "      <td>Shetland Sheepdog Mix</td>\n",
       "      <td>Domestic Shorthair Mix</td>\n",
       "      <td>Pit Bull Mix</td>\n",
       "      <td>Domestic Shorthair Mix</td>\n",
       "      <td>Lhasa Apso/Miniature Poodle</td>\n",
       "    </tr>\n",
       "    <tr>\n",
       "      <th>Color</th>\n",
       "      <td>Brown/White</td>\n",
       "      <td>Cream Tabby</td>\n",
       "      <td>Blue/White</td>\n",
       "      <td>Blue Cream</td>\n",
       "      <td>Tan</td>\n",
       "    </tr>\n",
       "  </tbody>\n",
       "</table>\n",
       "</div>"
      ],
      "text/plain": [
       "                                    0                       1  \\\n",
       "AnimalID                      A671945                 A656520   \n",
       "Name                          Hambone                   Emily   \n",
       "DateTime          2014-02-12 18:22:00     2013-10-13 12:44:00   \n",
       "OutcomeType           Return_to_owner              Euthanasia   \n",
       "OutcomeSubtype                    NaN               Suffering   \n",
       "AnimalType                        Dog                     Cat   \n",
       "SexuponOutcome          Neutered Male           Spayed Female   \n",
       "AgeuponOutcome                 1 year                  1 year   \n",
       "Breed           Shetland Sheepdog Mix  Domestic Shorthair Mix   \n",
       "Color                     Brown/White             Cream Tabby   \n",
       "\n",
       "                                  2                       3  \\\n",
       "AnimalID                    A686464                 A683430   \n",
       "Name                         Pearce                     NaN   \n",
       "DateTime        2015-01-31 12:28:00     2014-07-11 19:09:00   \n",
       "OutcomeType                Adoption                Transfer   \n",
       "OutcomeSubtype               Foster                 Partner   \n",
       "AnimalType                      Dog                     Cat   \n",
       "SexuponOutcome        Neutered Male             Intact Male   \n",
       "AgeuponOutcome              2 years                 3 weeks   \n",
       "Breed                  Pit Bull Mix  Domestic Shorthair Mix   \n",
       "Color                    Blue/White              Blue Cream   \n",
       "\n",
       "                                          4  \n",
       "AnimalID                            A667013  \n",
       "Name                                    NaN  \n",
       "DateTime                2013-11-15 12:52:00  \n",
       "OutcomeType                        Transfer  \n",
       "OutcomeSubtype                      Partner  \n",
       "AnimalType                              Dog  \n",
       "SexuponOutcome                Neutered Male  \n",
       "AgeuponOutcome                      2 years  \n",
       "Breed           Lhasa Apso/Miniature Poodle  \n",
       "Color                                   Tan  "
      ]
     },
     "execution_count": 71,
     "metadata": {},
     "output_type": "execute_result"
    }
   ],
   "source": [
    "print(train.shape)\n",
    "train.head(5).T"
   ]
  },
  {
   "cell_type": "code",
   "execution_count": 72,
   "metadata": {
    "collapsed": false
   },
   "outputs": [
    {
     "name": "stdout",
     "output_type": "stream",
     "text": [
      "(11456, 8)\n"
     ]
    },
    {
     "data": {
      "text/html": [
       "<div>\n",
       "<table border=\"1\" class=\"dataframe\">\n",
       "  <thead>\n",
       "    <tr style=\"text-align: right;\">\n",
       "      <th></th>\n",
       "      <th>0</th>\n",
       "      <th>1</th>\n",
       "      <th>2</th>\n",
       "      <th>3</th>\n",
       "      <th>4</th>\n",
       "    </tr>\n",
       "  </thead>\n",
       "  <tbody>\n",
       "    <tr>\n",
       "      <th>ID</th>\n",
       "      <td>1</td>\n",
       "      <td>2</td>\n",
       "      <td>3</td>\n",
       "      <td>4</td>\n",
       "      <td>5</td>\n",
       "    </tr>\n",
       "    <tr>\n",
       "      <th>Name</th>\n",
       "      <td>Summer</td>\n",
       "      <td>Cheyenne</td>\n",
       "      <td>Gus</td>\n",
       "      <td>Pongo</td>\n",
       "      <td>Skooter</td>\n",
       "    </tr>\n",
       "    <tr>\n",
       "      <th>DateTime</th>\n",
       "      <td>2015-10-12 12:15:00</td>\n",
       "      <td>2014-07-26 17:59:00</td>\n",
       "      <td>2016-01-13 12:20:00</td>\n",
       "      <td>2013-12-28 18:12:00</td>\n",
       "      <td>2015-09-24 17:59:00</td>\n",
       "    </tr>\n",
       "    <tr>\n",
       "      <th>AnimalType</th>\n",
       "      <td>Dog</td>\n",
       "      <td>Dog</td>\n",
       "      <td>Cat</td>\n",
       "      <td>Dog</td>\n",
       "      <td>Dog</td>\n",
       "    </tr>\n",
       "    <tr>\n",
       "      <th>SexuponOutcome</th>\n",
       "      <td>Intact Female</td>\n",
       "      <td>Spayed Female</td>\n",
       "      <td>Neutered Male</td>\n",
       "      <td>Intact Male</td>\n",
       "      <td>Neutered Male</td>\n",
       "    </tr>\n",
       "    <tr>\n",
       "      <th>AgeuponOutcome</th>\n",
       "      <td>10 months</td>\n",
       "      <td>2 years</td>\n",
       "      <td>1 year</td>\n",
       "      <td>4 months</td>\n",
       "      <td>2 years</td>\n",
       "    </tr>\n",
       "    <tr>\n",
       "      <th>Breed</th>\n",
       "      <td>Labrador Retriever Mix</td>\n",
       "      <td>German Shepherd/Siberian Husky</td>\n",
       "      <td>Domestic Shorthair Mix</td>\n",
       "      <td>Collie Smooth Mix</td>\n",
       "      <td>Miniature Poodle Mix</td>\n",
       "    </tr>\n",
       "    <tr>\n",
       "      <th>Color</th>\n",
       "      <td>Red/White</td>\n",
       "      <td>Black/Tan</td>\n",
       "      <td>Brown Tabby</td>\n",
       "      <td>Tricolor</td>\n",
       "      <td>White</td>\n",
       "    </tr>\n",
       "  </tbody>\n",
       "</table>\n",
       "</div>"
      ],
      "text/plain": [
       "                                     0                               1  \\\n",
       "ID                                   1                               2   \n",
       "Name                            Summer                        Cheyenne   \n",
       "DateTime           2015-10-12 12:15:00             2014-07-26 17:59:00   \n",
       "AnimalType                         Dog                             Dog   \n",
       "SexuponOutcome           Intact Female                   Spayed Female   \n",
       "AgeuponOutcome               10 months                         2 years   \n",
       "Breed           Labrador Retriever Mix  German Shepherd/Siberian Husky   \n",
       "Color                        Red/White                       Black/Tan   \n",
       "\n",
       "                                     2                    3  \\\n",
       "ID                                   3                    4   \n",
       "Name                               Gus                Pongo   \n",
       "DateTime           2016-01-13 12:20:00  2013-12-28 18:12:00   \n",
       "AnimalType                         Cat                  Dog   \n",
       "SexuponOutcome           Neutered Male          Intact Male   \n",
       "AgeuponOutcome                  1 year             4 months   \n",
       "Breed           Domestic Shorthair Mix    Collie Smooth Mix   \n",
       "Color                      Brown Tabby             Tricolor   \n",
       "\n",
       "                                   4  \n",
       "ID                                 5  \n",
       "Name                         Skooter  \n",
       "DateTime         2015-09-24 17:59:00  \n",
       "AnimalType                       Dog  \n",
       "SexuponOutcome         Neutered Male  \n",
       "AgeuponOutcome               2 years  \n",
       "Breed           Miniature Poodle Mix  \n",
       "Color                          White  "
      ]
     },
     "execution_count": 72,
     "metadata": {},
     "output_type": "execute_result"
    }
   ],
   "source": [
    "print(test.shape)\n",
    "test.head(5).T"
   ]
  },
  {
   "cell_type": "markdown",
   "metadata": {},
   "source": [
    "## clean sexuponoutcome"
   ]
  },
  {
   "cell_type": "code",
   "execution_count": 73,
   "metadata": {
    "collapsed": false
   },
   "outputs": [],
   "source": [
    "def update_sex(df):\n",
    "    unique_sex = ['Neutered Male', 'Spayed Female', 'Intact Male', 'Intact Female', 'Unknown']\n",
    "    df = df[df[\"SexuponOutcome\"].isin(unique_sex)]\n",
    "    df[\"Male\"] = df[\"SexuponOutcome\"].apply(lambda x: 1 if x.endswith(\"Male\") else 0)\n",
    "    df[\"Female\"] = df[\"SexuponOutcome\"].apply(lambda x: 1 if x.endswith(\"Female\") else 0)\n",
    "    df[\"SexType\"] = df[\"SexuponOutcome\"].apply(lambda x: x.split(\" \")[0])\n",
    "    df = pd.get_dummies(df,columns=[\"SexType\"], prefix=\"SexType\")\n",
    "    # df = df.drop(\"SexuponOutcome\",1)\n",
    "    return df"
   ]
  },
  {
   "cell_type": "code",
   "execution_count": 74,
   "metadata": {
    "collapsed": false
   },
   "outputs": [],
   "source": [
    "train = update_sex(train)\n",
    "test = update_sex(test)"
   ]
  },
  {
   "cell_type": "code",
   "execution_count": 75,
   "metadata": {
    "collapsed": false
   },
   "outputs": [
    {
     "data": {
      "text/html": [
       "<div>\n",
       "<table border=\"1\" class=\"dataframe\">\n",
       "  <thead>\n",
       "    <tr style=\"text-align: right;\">\n",
       "      <th></th>\n",
       "      <th>AnimalID</th>\n",
       "      <th>Name</th>\n",
       "      <th>DateTime</th>\n",
       "      <th>OutcomeType</th>\n",
       "      <th>OutcomeSubtype</th>\n",
       "      <th>AnimalType</th>\n",
       "      <th>SexuponOutcome</th>\n",
       "      <th>AgeuponOutcome</th>\n",
       "      <th>Breed</th>\n",
       "      <th>Color</th>\n",
       "      <th>Male</th>\n",
       "      <th>Female</th>\n",
       "      <th>SexType_Intact</th>\n",
       "      <th>SexType_Neutered</th>\n",
       "      <th>SexType_Spayed</th>\n",
       "      <th>SexType_Unknown</th>\n",
       "    </tr>\n",
       "  </thead>\n",
       "  <tbody>\n",
       "    <tr>\n",
       "      <th>0</th>\n",
       "      <td>A671945</td>\n",
       "      <td>Hambone</td>\n",
       "      <td>2014-02-12 18:22:00</td>\n",
       "      <td>Return_to_owner</td>\n",
       "      <td>NaN</td>\n",
       "      <td>Dog</td>\n",
       "      <td>Neutered Male</td>\n",
       "      <td>1 year</td>\n",
       "      <td>Shetland Sheepdog Mix</td>\n",
       "      <td>Brown/White</td>\n",
       "      <td>1</td>\n",
       "      <td>0</td>\n",
       "      <td>0.0</td>\n",
       "      <td>1.0</td>\n",
       "      <td>0.0</td>\n",
       "      <td>0.0</td>\n",
       "    </tr>\n",
       "    <tr>\n",
       "      <th>1</th>\n",
       "      <td>A656520</td>\n",
       "      <td>Emily</td>\n",
       "      <td>2013-10-13 12:44:00</td>\n",
       "      <td>Euthanasia</td>\n",
       "      <td>Suffering</td>\n",
       "      <td>Cat</td>\n",
       "      <td>Spayed Female</td>\n",
       "      <td>1 year</td>\n",
       "      <td>Domestic Shorthair Mix</td>\n",
       "      <td>Cream Tabby</td>\n",
       "      <td>0</td>\n",
       "      <td>1</td>\n",
       "      <td>0.0</td>\n",
       "      <td>0.0</td>\n",
       "      <td>1.0</td>\n",
       "      <td>0.0</td>\n",
       "    </tr>\n",
       "    <tr>\n",
       "      <th>2</th>\n",
       "      <td>A686464</td>\n",
       "      <td>Pearce</td>\n",
       "      <td>2015-01-31 12:28:00</td>\n",
       "      <td>Adoption</td>\n",
       "      <td>Foster</td>\n",
       "      <td>Dog</td>\n",
       "      <td>Neutered Male</td>\n",
       "      <td>2 years</td>\n",
       "      <td>Pit Bull Mix</td>\n",
       "      <td>Blue/White</td>\n",
       "      <td>1</td>\n",
       "      <td>0</td>\n",
       "      <td>0.0</td>\n",
       "      <td>1.0</td>\n",
       "      <td>0.0</td>\n",
       "      <td>0.0</td>\n",
       "    </tr>\n",
       "    <tr>\n",
       "      <th>3</th>\n",
       "      <td>A683430</td>\n",
       "      <td>NaN</td>\n",
       "      <td>2014-07-11 19:09:00</td>\n",
       "      <td>Transfer</td>\n",
       "      <td>Partner</td>\n",
       "      <td>Cat</td>\n",
       "      <td>Intact Male</td>\n",
       "      <td>3 weeks</td>\n",
       "      <td>Domestic Shorthair Mix</td>\n",
       "      <td>Blue Cream</td>\n",
       "      <td>1</td>\n",
       "      <td>0</td>\n",
       "      <td>1.0</td>\n",
       "      <td>0.0</td>\n",
       "      <td>0.0</td>\n",
       "      <td>0.0</td>\n",
       "    </tr>\n",
       "    <tr>\n",
       "      <th>4</th>\n",
       "      <td>A667013</td>\n",
       "      <td>NaN</td>\n",
       "      <td>2013-11-15 12:52:00</td>\n",
       "      <td>Transfer</td>\n",
       "      <td>Partner</td>\n",
       "      <td>Dog</td>\n",
       "      <td>Neutered Male</td>\n",
       "      <td>2 years</td>\n",
       "      <td>Lhasa Apso/Miniature Poodle</td>\n",
       "      <td>Tan</td>\n",
       "      <td>1</td>\n",
       "      <td>0</td>\n",
       "      <td>0.0</td>\n",
       "      <td>1.0</td>\n",
       "      <td>0.0</td>\n",
       "      <td>0.0</td>\n",
       "    </tr>\n",
       "  </tbody>\n",
       "</table>\n",
       "</div>"
      ],
      "text/plain": [
       "  AnimalID     Name             DateTime      OutcomeType OutcomeSubtype  \\\n",
       "0  A671945  Hambone  2014-02-12 18:22:00  Return_to_owner            NaN   \n",
       "1  A656520    Emily  2013-10-13 12:44:00       Euthanasia      Suffering   \n",
       "2  A686464   Pearce  2015-01-31 12:28:00         Adoption         Foster   \n",
       "3  A683430      NaN  2014-07-11 19:09:00         Transfer        Partner   \n",
       "4  A667013      NaN  2013-11-15 12:52:00         Transfer        Partner   \n",
       "\n",
       "  AnimalType SexuponOutcome AgeuponOutcome                        Breed  \\\n",
       "0        Dog  Neutered Male         1 year        Shetland Sheepdog Mix   \n",
       "1        Cat  Spayed Female         1 year       Domestic Shorthair Mix   \n",
       "2        Dog  Neutered Male        2 years                 Pit Bull Mix   \n",
       "3        Cat    Intact Male        3 weeks       Domestic Shorthair Mix   \n",
       "4        Dog  Neutered Male        2 years  Lhasa Apso/Miniature Poodle   \n",
       "\n",
       "         Color  Male  Female  SexType_Intact  SexType_Neutered  \\\n",
       "0  Brown/White     1       0             0.0               1.0   \n",
       "1  Cream Tabby     0       1             0.0               0.0   \n",
       "2   Blue/White     1       0             0.0               1.0   \n",
       "3   Blue Cream     1       0             1.0               0.0   \n",
       "4          Tan     1       0             0.0               1.0   \n",
       "\n",
       "   SexType_Spayed  SexType_Unknown  \n",
       "0             0.0              0.0  \n",
       "1             1.0              0.0  \n",
       "2             0.0              0.0  \n",
       "3             0.0              0.0  \n",
       "4             0.0              0.0  "
      ]
     },
     "execution_count": 75,
     "metadata": {},
     "output_type": "execute_result"
    }
   ],
   "source": [
    "train.head(5)"
   ]
  },
  {
   "cell_type": "markdown",
   "metadata": {},
   "source": [
    "## clean ageuponoutcome"
   ]
  },
  {
   "cell_type": "code",
   "execution_count": 76,
   "metadata": {
    "collapsed": false
   },
   "outputs": [],
   "source": [
    "def map_age(s):\n",
    "    if type(s) == float:\n",
    "        return -1\n",
    "    if \"year\" in s:\n",
    "        return int(s.split(\" \")[0])*365\n",
    "    elif \"month\" in s:\n",
    "        return int(s.split(\" \")[0])*30.5\n",
    "    elif \"week\" in s:\n",
    "        return int(s.split(\" \")[0])*7\n",
    "    elif \"day\" in s:\n",
    "        return int(s.split(\" \")[0])\n",
    "    \n",
    "def update_age(df):\n",
    "    df[\"AgeuponOutcome\"] = df[\"AgeuponOutcome\"].apply(map_age)\n",
    "    train_age_means_by_outcome = dict(train.groupby(\"OutcomeType\")[\"AgeuponOutcome\"].mean())\n",
    "    # set value of 0 to outcome group mean\n",
    "    for i in train[train.AgeuponOutcome == -1].index:\n",
    "        df.ix[i,\"AgeuponOutcome\"] = train_age_means_by_outcome[df.ix[i,\"OutcomeType\"]]\n",
    "    return df"
   ]
  },
  {
   "cell_type": "code",
   "execution_count": 77,
   "metadata": {
    "collapsed": false
   },
   "outputs": [],
   "source": [
    "train = update_age(train)\n",
    "test = update_age(test)"
   ]
  },
  {
   "cell_type": "markdown",
   "metadata": {},
   "source": [
    "## clean breed"
   ]
  },
  {
   "cell_type": "code",
   "execution_count": 78,
   "metadata": {
    "collapsed": false
   },
   "outputs": [
    {
     "name": "stdout",
     "output_type": "stream",
     "text": [
      "Number of unique breeds: 225 (not considering mix)\n"
     ]
    }
   ],
   "source": [
    "# get unique_breed\n",
    "all_breeds = list(train[\"Breed\"].apply(lambda x: x.split(\"/\")))\n",
    "\n",
    "unique_breed = []\n",
    "\n",
    "for l in all_breeds:\n",
    "    for s in l:\n",
    "        if \",\" in l:\n",
    "            sp = l.split(\",\")\n",
    "            for i in l: \n",
    "                if i not in unique_breed:\n",
    "                    unique_breed.append(i)\n",
    "        else:\n",
    "            if s not in unique_breed:\n",
    "                unique_breed.append(s)\n",
    "                \n",
    "# get rid of the \"_Mix\"\n",
    "unique_breed = [x[:-4] if \"Mix\" in x else x for x in unique_breed]\n",
    "unique_breed = list(set(unique_breed))\n",
    "\n",
    "print(\"Number of unique breeds: %d (not considering mix)\" % len(unique_breed))"
   ]
  },
  {
   "cell_type": "code",
   "execution_count": 79,
   "metadata": {
    "collapsed": false
   },
   "outputs": [],
   "source": [
    "def map_breed(df):\n",
    "    \n",
    "    # number of \"/\" or \",\" in Breed\n",
    "    df[\"crosses\"] = df[\"Breed\"].apply(lambda x: len(re.split(\",|/\",'Shetland Sheepdog Mix/Dog')))\n",
    "    # check if it is a mix\n",
    "    df[\"mix\"] = df[\"Breed\"].apply(lambda x: 1 if \"Mix\" in x else 0)\n",
    "    # get rid of the \"_Mix\" at the end if there is one\n",
    "    df[\"Breed\"] = df[\"Breed\"].apply(lambda x: x[:-4] if \"Mix\" in x else x)\n",
    "    \n",
    "    # dummy mapping for all unique breeds\n",
    "    for b in unique_breed:\n",
    "        df[\"Breed_\"+b] = df[\"Breed\"].apply(lambda x: b in x)\n",
    "    # replace the spaces in column names with \"_\"\n",
    "    df.columns = [x.replace(\" \",\"_\") for x in df.columns]\n",
    "    \n",
    "    '''\n",
    "    # get all breed cols in train\n",
    "    train_breed_only = train[[x for x in train.columns if x.startswith(\"Breed_\")]]\n",
    "    # get top 100 names\n",
    "    train_top_100_names = train_breed_only.sum(axis=0).sort_values(ascending=False)[:100].index\n",
    "    # get the rest column names\n",
    "    train_else_names = train_breed_only.sum(axis=0).sort_values(ascending=False)[100:].index\n",
    "    # get other cols of df\n",
    "    df_else_cols = df[[x for x in df.columns if not x.startswith(\"Breed_\")]]\n",
    "    # combine other columns with columns of top 100 breeds\n",
    "    df_new = pd.concat([df_else_cols, df[train_top_100_names]], axis=1)\n",
    "    # add a new column for other breeds (binary)\n",
    "    df_new[\"Breed_Other\"] = df[train_else_names].sum(axis=1).apply(lambda x: 1 if x>0 else 0)\n",
    "    '''\n",
    "    \n",
    "    # df_new = df_new.drop(\"Breed\",1) \n",
    "    # return df_new\n",
    "    return df"
   ]
  },
  {
   "cell_type": "code",
   "execution_count": 80,
   "metadata": {
    "collapsed": false
   },
   "outputs": [],
   "source": [
    "train_after_breed = map_breed(train)\n",
    "test_after_breed = map_breed(test)\n",
    "\n",
    "train = train_after_breed\n",
    "test = test_after_breed"
   ]
  },
  {
   "cell_type": "code",
   "execution_count": 81,
   "metadata": {
    "collapsed": false
   },
   "outputs": [
    {
     "data": {
      "text/html": [
       "<div>\n",
       "<table border=\"1\" class=\"dataframe\">\n",
       "  <thead>\n",
       "    <tr style=\"text-align: right;\">\n",
       "      <th></th>\n",
       "      <th>AnimalID</th>\n",
       "      <th>Name</th>\n",
       "      <th>DateTime</th>\n",
       "      <th>OutcomeType</th>\n",
       "      <th>OutcomeSubtype</th>\n",
       "      <th>AnimalType</th>\n",
       "      <th>SexuponOutcome</th>\n",
       "      <th>AgeuponOutcome</th>\n",
       "      <th>Breed</th>\n",
       "      <th>Color</th>\n",
       "      <th>...</th>\n",
       "      <th>Breed_Devon_Rex</th>\n",
       "      <th>Breed_Nova_Scotia_Duck_Tolling_Retriever</th>\n",
       "      <th>Breed_Feist</th>\n",
       "      <th>Breed_Bull_Terrier_Miniature</th>\n",
       "      <th>Breed_Cocker_Spaniel</th>\n",
       "      <th>Breed_Borzoi</th>\n",
       "      <th>Breed_Old_English_Bulldog</th>\n",
       "      <th>Breed_Cymric</th>\n",
       "      <th>Breed_Swedish_Vallhund</th>\n",
       "      <th>Breed_Balinese</th>\n",
       "    </tr>\n",
       "  </thead>\n",
       "  <tbody>\n",
       "    <tr>\n",
       "      <th>0</th>\n",
       "      <td>A671945</td>\n",
       "      <td>Hambone</td>\n",
       "      <td>2014-02-12 18:22:00</td>\n",
       "      <td>Return_to_owner</td>\n",
       "      <td>NaN</td>\n",
       "      <td>Dog</td>\n",
       "      <td>Neutered Male</td>\n",
       "      <td>365.0</td>\n",
       "      <td>Shetland Sheepdog</td>\n",
       "      <td>Brown/White</td>\n",
       "      <td>...</td>\n",
       "      <td>False</td>\n",
       "      <td>False</td>\n",
       "      <td>False</td>\n",
       "      <td>False</td>\n",
       "      <td>False</td>\n",
       "      <td>False</td>\n",
       "      <td>False</td>\n",
       "      <td>False</td>\n",
       "      <td>False</td>\n",
       "      <td>False</td>\n",
       "    </tr>\n",
       "    <tr>\n",
       "      <th>1</th>\n",
       "      <td>A656520</td>\n",
       "      <td>Emily</td>\n",
       "      <td>2013-10-13 12:44:00</td>\n",
       "      <td>Euthanasia</td>\n",
       "      <td>Suffering</td>\n",
       "      <td>Cat</td>\n",
       "      <td>Spayed Female</td>\n",
       "      <td>365.0</td>\n",
       "      <td>Domestic Shorthair</td>\n",
       "      <td>Cream Tabby</td>\n",
       "      <td>...</td>\n",
       "      <td>False</td>\n",
       "      <td>False</td>\n",
       "      <td>False</td>\n",
       "      <td>False</td>\n",
       "      <td>False</td>\n",
       "      <td>False</td>\n",
       "      <td>False</td>\n",
       "      <td>False</td>\n",
       "      <td>False</td>\n",
       "      <td>False</td>\n",
       "    </tr>\n",
       "    <tr>\n",
       "      <th>2</th>\n",
       "      <td>A686464</td>\n",
       "      <td>Pearce</td>\n",
       "      <td>2015-01-31 12:28:00</td>\n",
       "      <td>Adoption</td>\n",
       "      <td>Foster</td>\n",
       "      <td>Dog</td>\n",
       "      <td>Neutered Male</td>\n",
       "      <td>730.0</td>\n",
       "      <td>Pit Bull</td>\n",
       "      <td>Blue/White</td>\n",
       "      <td>...</td>\n",
       "      <td>False</td>\n",
       "      <td>False</td>\n",
       "      <td>False</td>\n",
       "      <td>False</td>\n",
       "      <td>False</td>\n",
       "      <td>False</td>\n",
       "      <td>False</td>\n",
       "      <td>False</td>\n",
       "      <td>False</td>\n",
       "      <td>False</td>\n",
       "    </tr>\n",
       "    <tr>\n",
       "      <th>3</th>\n",
       "      <td>A683430</td>\n",
       "      <td>NaN</td>\n",
       "      <td>2014-07-11 19:09:00</td>\n",
       "      <td>Transfer</td>\n",
       "      <td>Partner</td>\n",
       "      <td>Cat</td>\n",
       "      <td>Intact Male</td>\n",
       "      <td>21.0</td>\n",
       "      <td>Domestic Shorthair</td>\n",
       "      <td>Blue Cream</td>\n",
       "      <td>...</td>\n",
       "      <td>False</td>\n",
       "      <td>False</td>\n",
       "      <td>False</td>\n",
       "      <td>False</td>\n",
       "      <td>False</td>\n",
       "      <td>False</td>\n",
       "      <td>False</td>\n",
       "      <td>False</td>\n",
       "      <td>False</td>\n",
       "      <td>False</td>\n",
       "    </tr>\n",
       "    <tr>\n",
       "      <th>4</th>\n",
       "      <td>A667013</td>\n",
       "      <td>NaN</td>\n",
       "      <td>2013-11-15 12:52:00</td>\n",
       "      <td>Transfer</td>\n",
       "      <td>Partner</td>\n",
       "      <td>Dog</td>\n",
       "      <td>Neutered Male</td>\n",
       "      <td>730.0</td>\n",
       "      <td>Lhasa Apso/Miniature Poodle</td>\n",
       "      <td>Tan</td>\n",
       "      <td>...</td>\n",
       "      <td>False</td>\n",
       "      <td>False</td>\n",
       "      <td>False</td>\n",
       "      <td>False</td>\n",
       "      <td>False</td>\n",
       "      <td>False</td>\n",
       "      <td>False</td>\n",
       "      <td>False</td>\n",
       "      <td>False</td>\n",
       "      <td>False</td>\n",
       "    </tr>\n",
       "  </tbody>\n",
       "</table>\n",
       "<p>5 rows × 243 columns</p>\n",
       "</div>"
      ],
      "text/plain": [
       "  AnimalID     Name             DateTime      OutcomeType OutcomeSubtype  \\\n",
       "0  A671945  Hambone  2014-02-12 18:22:00  Return_to_owner            NaN   \n",
       "1  A656520    Emily  2013-10-13 12:44:00       Euthanasia      Suffering   \n",
       "2  A686464   Pearce  2015-01-31 12:28:00         Adoption         Foster   \n",
       "3  A683430      NaN  2014-07-11 19:09:00         Transfer        Partner   \n",
       "4  A667013      NaN  2013-11-15 12:52:00         Transfer        Partner   \n",
       "\n",
       "  AnimalType SexuponOutcome  AgeuponOutcome                        Breed  \\\n",
       "0        Dog  Neutered Male           365.0            Shetland Sheepdog   \n",
       "1        Cat  Spayed Female           365.0           Domestic Shorthair   \n",
       "2        Dog  Neutered Male           730.0                     Pit Bull   \n",
       "3        Cat    Intact Male            21.0           Domestic Shorthair   \n",
       "4        Dog  Neutered Male           730.0  Lhasa Apso/Miniature Poodle   \n",
       "\n",
       "         Color      ...        Breed_Devon_Rex  \\\n",
       "0  Brown/White      ...                  False   \n",
       "1  Cream Tabby      ...                  False   \n",
       "2   Blue/White      ...                  False   \n",
       "3   Blue Cream      ...                  False   \n",
       "4          Tan      ...                  False   \n",
       "\n",
       "   Breed_Nova_Scotia_Duck_Tolling_Retriever  Breed_Feist  \\\n",
       "0                                     False        False   \n",
       "1                                     False        False   \n",
       "2                                     False        False   \n",
       "3                                     False        False   \n",
       "4                                     False        False   \n",
       "\n",
       "   Breed_Bull_Terrier_Miniature  Breed_Cocker_Spaniel  Breed_Borzoi  \\\n",
       "0                         False                 False         False   \n",
       "1                         False                 False         False   \n",
       "2                         False                 False         False   \n",
       "3                         False                 False         False   \n",
       "4                         False                 False         False   \n",
       "\n",
       "   Breed_Old_English_Bulldog  Breed_Cymric Breed_Swedish_Vallhund  \\\n",
       "0                      False         False                  False   \n",
       "1                      False         False                  False   \n",
       "2                      False         False                  False   \n",
       "3                      False         False                  False   \n",
       "4                      False         False                  False   \n",
       "\n",
       "  Breed_Balinese  \n",
       "0          False  \n",
       "1          False  \n",
       "2          False  \n",
       "3          False  \n",
       "4          False  \n",
       "\n",
       "[5 rows x 243 columns]"
      ]
     },
     "execution_count": 81,
     "metadata": {},
     "output_type": "execute_result"
    }
   ],
   "source": [
    "train.head(5)"
   ]
  },
  {
   "cell_type": "markdown",
   "metadata": {},
   "source": [
    "## clean color"
   ]
  },
  {
   "cell_type": "code",
   "execution_count": 82,
   "metadata": {
    "collapsed": false
   },
   "outputs": [
    {
     "name": "stdout",
     "output_type": "stream",
     "text": [
      "['Smoke', 'Lynx', 'Pink', 'Black', 'Calico', 'Ruddy', 'Blue', 'Merle', 'Tan', 'Seal', 'Tortie', 'Gray', 'Orange', 'Sable', 'Tiger', 'Yellow', 'Torbie', 'Tricolor', 'Silver', 'Agouti', 'Gold', 'Red', 'Lilac', 'Apricot', 'Tick', 'Point', 'Liver', 'Brindle', 'White', 'Buff', 'Flame', 'Chocolate', 'Cream', 'Tabby', 'Fawn', 'Brown']\n"
     ]
    }
   ],
   "source": [
    "# get unique color\n",
    "all_color = list(train[\"Color\"].apply(lambda x: x.split(\"/\")))\n",
    "\n",
    "unique_color = []\n",
    "unique_description = []\n",
    "\n",
    "for l in all_color:\n",
    "    for s in l:\n",
    "        if len(s.split(\" \")) > 1:\n",
    "            if s.split(\" \")[1] not in unique_description:\n",
    "                unique_description.append(s.split(\" \")[1])\n",
    "        if s not in unique_color:\n",
    "            unique_color.append(s)\n",
    "\n",
    "unique_color = list(set([x.split(\" \")[0] for x in unique_color] + unique_description))\n",
    "print(unique_color)"
   ]
  },
  {
   "cell_type": "code",
   "execution_count": 83,
   "metadata": {
    "collapsed": false
   },
   "outputs": [],
   "source": [
    "def map_color(df):\n",
    "    for c in unique_color:\n",
    "        df[\"Color_\"+c] = df[\"Color\"].apply(lambda x: c in x)\n",
    "    # number of mix colors\n",
    "    df[\"Color_num_mix\"] = df[\"Color\"].apply(lambda x: len(re.split(\",|/\",x)))\n",
    "    # df = df.drop(\"Color\",1)\n",
    "    return df"
   ]
  },
  {
   "cell_type": "code",
   "execution_count": 84,
   "metadata": {
    "collapsed": false
   },
   "outputs": [],
   "source": [
    "train = map_color(train)\n",
    "test = map_color(test)"
   ]
  },
  {
   "cell_type": "markdown",
   "metadata": {},
   "source": [
    "## clean animaltype"
   ]
  },
  {
   "cell_type": "code",
   "execution_count": 85,
   "metadata": {
    "collapsed": true
   },
   "outputs": [],
   "source": [
    "def map_animal(df):\n",
    "    df[\"animal_is_dog\"] = df[\"AnimalType\"].apply(lambda x: \"Dog\" in x)\n",
    "    # df = df.drop(\"AnimalType\",1)\n",
    "    return df"
   ]
  },
  {
   "cell_type": "code",
   "execution_count": 86,
   "metadata": {
    "collapsed": true
   },
   "outputs": [],
   "source": [
    "train = map_animal(train)\n",
    "test = map_animal(test)"
   ]
  },
  {
   "cell_type": "markdown",
   "metadata": {},
   "source": [
    "## clean time"
   ]
  },
  {
   "cell_type": "code",
   "execution_count": 87,
   "metadata": {
    "collapsed": false
   },
   "outputs": [],
   "source": [
    "def clean_time(df):\n",
    "    df[\"Year\"] = df[\"DateTime\"].apply(lambda x: x.split(\" \")[0].split(\"-\")[0])\n",
    "    df[\"Month\"] = df[\"DateTime\"].apply(lambda x: x.split(\" \")[0].split(\"-\")[1])\n",
    "    df[\"Day\"] = df[\"DateTime\"].apply(lambda x: x.split(\" \")[0].split(\"-\")[2])\n",
    "    df[\"Weekday\"] = df[\"DateTime\"].apply(lambda x: parse(x.split(\" \")[0]).weekday())\n",
    "    df[\"Hour\"] = df[\"DateTime\"].apply(lambda x: x.split(\" \")[1].split(\":\")[0])\n",
    "    df[\"Minute\"] = df[\"DateTime\"].apply(lambda x: x.split(\" \")[1].split(\":\")[1])\n",
    "    # df = df.drop(\"DateTime\",1)\n",
    "    return df"
   ]
  },
  {
   "cell_type": "code",
   "execution_count": 88,
   "metadata": {
    "collapsed": true
   },
   "outputs": [],
   "source": [
    "train = clean_time(train)\n",
    "test = clean_time(test)"
   ]
  },
  {
   "cell_type": "markdown",
   "metadata": {},
   "source": [
    "## clean name\n",
    "1. bool for if there is a name to the animal\n",
    "2. calculate the length of the name\n",
    "3. initials?\n",
    "4. name popularity?"
   ]
  },
  {
   "cell_type": "code",
   "execution_count": 116,
   "metadata": {
    "collapsed": false
   },
   "outputs": [
    {
     "data": {
      "text/plain": [
       "Index(['Max', 'Bella', 'Charlie', 'Daisy', 'Lucy', 'Buddy', 'Princess',\n",
       "       'Rocky', 'Luna', 'Jack', 'Lola', 'Sadie', 'Molly', 'Shadow', 'Coco',\n",
       "       'Maggie', 'Chico', 'Oreo', 'Lily', 'Blue', 'Lucky', 'Toby', 'Ginger',\n",
       "       'Cookie', 'Lady', 'Sam', 'Duke', 'Sophie', 'Oliver', 'Milo', 'Rosie',\n",
       "       'Leo', 'Bear', 'Buster', 'Riley', 'Ruby', 'Sasha', 'Marley', 'Peanut',\n",
       "       'Diamond', 'Jake', 'Brownie', 'Rex', 'Chloe', 'Cooper', 'Zeus', 'Penny',\n",
       "       'Roxy', 'Minnie', 'Pepper', 'Jasper', 'Smokey', 'Bailey', 'Jasmine',\n",
       "       'Tiger', 'Gracie', 'Jackson', 'Zoey', 'Mia', 'Oso', 'Nala', 'Bruno',\n",
       "       'Stella', 'Rusty', 'Abby', 'Sugar', 'Emma', 'Hank', 'Fiona', 'Oscar',\n",
       "       'Lilly', 'Lulu', 'Louie', 'Luke', 'Simba', 'Harley', 'Angel', 'Sandy',\n",
       "       'Annie', 'Dexter', 'Sammy', 'Petey', 'Precious', 'Roscoe', 'Loki',\n",
       "       'Scout', 'George', 'Betty', 'Beau', 'Bonnie', 'Baby', 'Mickey', 'Romeo',\n",
       "       'Ellie', 'Star', 'Honey', 'Jax', 'X', 'Bandit', 'Willie'],\n",
       "      dtype='object')"
      ]
     },
     "execution_count": 116,
     "metadata": {},
     "output_type": "execute_result"
    }
   ],
   "source": [
    "train_name_freq = train[\"Name\"].value_counts() / train.shape[0]\n",
    "popular_names = train_name_freq[:100].index\n",
    "popular_names"
   ]
  },
  {
   "cell_type": "code",
   "execution_count": 117,
   "metadata": {
    "collapsed": false
   },
   "outputs": [
    {
     "data": {
      "text/plain": [
       "Adoption           0.464484\n",
       "Return_to_owner    0.292560\n",
       "Transfer           0.193836\n",
       "Euthanasia         0.046713\n",
       "Died               0.002408\n",
       "Name: OutcomeType, dtype: float64"
      ]
     },
     "execution_count": 117,
     "metadata": {},
     "output_type": "execute_result"
    }
   ],
   "source": [
    "train[train.Name.isin(popular_names)][\"OutcomeType\"].value_counts() / train[train.Name.isin(popular_names)].shape[0]"
   ]
  },
  {
   "cell_type": "code",
   "execution_count": 118,
   "metadata": {
    "collapsed": false
   },
   "outputs": [
    {
     "data": {
      "text/plain": [
       "Adoption           0.391584\n",
       "Transfer           0.381705\n",
       "Return_to_owner    0.158140\n",
       "Euthanasia         0.060288\n",
       "Died               0.008283\n",
       "Name: OutcomeType, dtype: float64"
      ]
     },
     "execution_count": 118,
     "metadata": {},
     "output_type": "execute_result"
    }
   ],
   "source": [
    "train[~train.Name.isin(popular_names)][\"OutcomeType\"].value_counts() / train[~train.Name.isin(popular_names)].shape[0]"
   ]
  },
  {
   "cell_type": "code",
   "execution_count": 64,
   "metadata": {
    "collapsed": false
   },
   "outputs": [],
   "source": [
    "def clean_name(df,df_type):\n",
    "    \n",
    "    # if there is a name\n",
    "    df[\"has_name\"] = df[\"Name\"].apply(lambda x: type(x) != float)\n",
    "    \n",
    "    # name length\n",
    "    # df[\"name_length\"] = df[\"Name\"].apply(lambda x: len(x) if type(x) != float else 0)\n",
    "    \n",
    "    # initial and map to int\n",
    "    '''\n",
    "    df[\"initial\"] = df[\"Name\"].apply(lambda x: x[0] if type(x) != float else \"!\")\n",
    "    if df_type == \"train\":\n",
    "        df[\"initial\"][df[\"initial\"].str.contains(\"'\")] = \"S\"\n",
    "        df[\"initial\"][df[\"initial\"].str.contains(\"0\")] = \"J\"\n",
    "        df[\"initial\"][df[\"initial\"].str.contains(\"3\")] = \"B\"\n",
    "        df[\"initial\"][df[\"initial\"].str.contains(\" \")] = \"J\"\n",
    "        df[\"initial\"][df[\"initial\"].str.contains(\" \")] = pd.Series([\"J\",\"M\"])\n",
    "    else:\n",
    "        df[\"initial\"][df[\"initial\"].str.contains(\"0\")] = \"!\"\n",
    "        df[\"initial\"][df[\"initial\"].str.contains(\"3\")] = \"!\"\n",
    "        df[\"initial\"][df[\"initial\"].str.contains(\"6\")] = \"!\"\n",
    "    D = {i:j for i,j in zip(list(\"!ABCDEFGHIJKLMNOPQRSTUVWXYZ\"),list(range(27)))}\n",
    "    df[\"initial\"] = df[\"initial\"].replace(D)\n",
    "    '''\n",
    "    \n",
    "    # df = df.drop(\"Name\",1)\n",
    "    return df"
   ]
  },
  {
   "cell_type": "code",
   "execution_count": 65,
   "metadata": {
    "collapsed": false
   },
   "outputs": [],
   "source": [
    "train = clean_name(train,\"train\")\n",
    "test = clean_name(test,\"test\")"
   ]
  },
  {
   "cell_type": "markdown",
   "metadata": {},
   "source": [
    "## clean currently not going to be used variables"
   ]
  },
  {
   "cell_type": "code",
   "execution_count": 66,
   "metadata": {
    "collapsed": true
   },
   "outputs": [],
   "source": [
    "# delete columns transformed\n",
    "train = train.drop(\"SexuponOutcome\",1)\n",
    "train = train.drop(\"Breed\",1)\n",
    "train = train.drop(\"Color\",1)\n",
    "train = train.drop(\"DateTime\",1)\n",
    "train = train.drop(\"Name\",1)\n",
    "train = train.drop(\"AnimalType\",1)\n",
    "\n",
    "test = test.drop(\"SexuponOutcome\",1)\n",
    "test = test.drop(\"Breed\",1)\n",
    "test = test.drop(\"Color\",1)\n",
    "test = test.drop(\"DateTime\",1)\n",
    "test = test.drop(\"Name\",1)\n",
    "test = test.drop(\"AnimalType\",1)"
   ]
  },
  {
   "cell_type": "code",
   "execution_count": 67,
   "metadata": {
    "collapsed": false
   },
   "outputs": [],
   "source": [
    "train = train.drop(\"OutcomeSubtype\",1)\n",
    "train = train.drop(\"AnimalID\",1)"
   ]
  },
  {
   "cell_type": "code",
   "execution_count": 38,
   "metadata": {
    "collapsed": false
   },
   "outputs": [
    {
     "name": "stdout",
     "output_type": "stream",
     "text": [
      "(26728, 280)\n",
      "(11456, 280)\n"
     ]
    }
   ],
   "source": [
    "print(train.shape)\n",
    "print(test.shape)"
   ]
  },
  {
   "cell_type": "code",
   "execution_count": 39,
   "metadata": {
    "collapsed": true
   },
   "outputs": [],
   "source": [
    "train.to_csv(\"data/train_clean_2.csv\",index=False)\n",
    "test.to_csv(\"data/test_clean_2.csv\",index=False)"
   ]
  },
  {
   "cell_type": "markdown",
   "metadata": {},
   "source": [
    "## oversample\n",
    "to deal with unbalanced labels in the training data\n",
    "- https://github.com/stavskal/ADASYN\n",
    "- https://github.com/fmfn/UnbalancedDataset (binary?)\n",
    "\n",
    "done in R using SMOTE"
   ]
  },
  {
   "cell_type": "code",
   "execution_count": 190,
   "metadata": {
    "collapsed": false
   },
   "outputs": [
    {
     "data": {
      "text/plain": [
       "Adoption           10769\n",
       "Transfer            9422\n",
       "Return_to_owner     4785\n",
       "Euthanasia          1555\n",
       "Died                 197\n",
       "Name: OutcomeType, dtype: int64"
      ]
     },
     "execution_count": 190,
     "metadata": {},
     "output_type": "execute_result"
    }
   ],
   "source": [
    "train.OutcomeType.value_counts()"
   ]
  },
  {
   "cell_type": "code",
   "execution_count": null,
   "metadata": {
    "collapsed": false
   },
   "outputs": [],
   "source": []
  },
  {
   "cell_type": "code",
   "execution_count": null,
   "metadata": {
    "collapsed": false
   },
   "outputs": [],
   "source": []
  },
  {
   "cell_type": "code",
   "execution_count": null,
   "metadata": {
    "collapsed": false
   },
   "outputs": [],
   "source": []
  },
  {
   "cell_type": "code",
   "execution_count": null,
   "metadata": {
    "collapsed": true
   },
   "outputs": [],
   "source": []
  }
 ],
 "metadata": {
  "kernelspec": {
   "display_name": "Python 3",
   "language": "python",
   "name": "python3"
  },
  "language_info": {
   "codemirror_mode": {
    "name": "ipython",
    "version": 3
   },
   "file_extension": ".py",
   "mimetype": "text/x-python",
   "name": "python",
   "nbconvert_exporter": "python",
   "pygments_lexer": "ipython3",
   "version": "3.5.1"
  }
 },
 "nbformat": 4,
 "nbformat_minor": 0
}
