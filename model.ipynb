{
 "cells": [
  {
   "cell_type": "code",
   "execution_count": 1,
   "metadata": {
    "collapsed": false,
    "scrolled": false
   },
   "outputs": [
    {
     "name": "stderr",
     "output_type": "stream",
     "text": [
      "Using TensorFlow backend.\n"
     ]
    }
   ],
   "source": [
    "# import\n",
    "import pandas as pd\n",
    "import numpy as np\n",
    "import operator\n",
    "import re\n",
    "import os\n",
    "\n",
    "import warnings\n",
    "warnings.filterwarnings('ignore')\n",
    "\n",
    "from sklearn.ensemble import RandomForestClassifier, ExtraTreesClassifier\n",
    "import xgboost as xgb\n",
    "from sklearn import grid_search\n",
    "from sklearn.grid_search import GridSearchCV\n",
    "from sklearn.cross_validation import StratifiedKFold\n",
    "from sklearn.cross_validation import cross_val_score\n",
    "from sklearn.cross_validation import train_test_split\n",
    "\n",
    "#from lasagne import layers\n",
    "#from lasagne.nonlinearities import  softmax, rectify\n",
    "#from lasagne.updates import nesterov_momentum\n",
    "#from nolearn.lasagne import NeuralNet\n",
    "\n",
    "# keras neural network model\n",
    "from keras.models import Sequential\n",
    "from keras.layers.core import Dense, Activation, Dropout\n",
    "from keras.utils.np_utils import to_categorical\n",
    "from keras.layers import Embedding\n",
    "from keras.layers import LSTM\n",
    "from keras.optimizers import SGD"
   ]
  },
  {
   "cell_type": "code",
   "execution_count": 2,
   "metadata": {
    "collapsed": false
   },
   "outputs": [],
   "source": [
    "# data \n",
    "train = pd.read_csv(\"data/train_clean_2.csv\")\n",
    "test = pd.read_csv(\"data/test_clean_2.csv\")"
   ]
  },
  {
   "cell_type": "code",
   "execution_count": 3,
   "metadata": {
    "collapsed": false
   },
   "outputs": [
    {
     "data": {
      "text/html": [
       "<div>\n",
       "<table border=\"1\" class=\"dataframe\">\n",
       "  <thead>\n",
       "    <tr style=\"text-align: right;\">\n",
       "      <th></th>\n",
       "      <th>OutcomeType</th>\n",
       "      <th>AgeuponOutcome</th>\n",
       "      <th>Male</th>\n",
       "      <th>Female</th>\n",
       "      <th>SexType_Intact</th>\n",
       "      <th>SexType_Neutered</th>\n",
       "      <th>SexType_Spayed</th>\n",
       "      <th>SexType_Unknown</th>\n",
       "      <th>crosses</th>\n",
       "      <th>mix</th>\n",
       "      <th>...</th>\n",
       "      <th>Color_Brown</th>\n",
       "      <th>Color_num_mix</th>\n",
       "      <th>animal_is_dog</th>\n",
       "      <th>Year</th>\n",
       "      <th>Month</th>\n",
       "      <th>Day</th>\n",
       "      <th>Weekday</th>\n",
       "      <th>Hour</th>\n",
       "      <th>Minute</th>\n",
       "      <th>has_name</th>\n",
       "    </tr>\n",
       "  </thead>\n",
       "  <tbody>\n",
       "    <tr>\n",
       "      <th>0</th>\n",
       "      <td>Return_to_owner</td>\n",
       "      <td>365.0</td>\n",
       "      <td>1</td>\n",
       "      <td>0</td>\n",
       "      <td>0.0</td>\n",
       "      <td>1.0</td>\n",
       "      <td>0.0</td>\n",
       "      <td>0.0</td>\n",
       "      <td>2</td>\n",
       "      <td>1</td>\n",
       "      <td>...</td>\n",
       "      <td>True</td>\n",
       "      <td>2</td>\n",
       "      <td>True</td>\n",
       "      <td>2014</td>\n",
       "      <td>2</td>\n",
       "      <td>12</td>\n",
       "      <td>2</td>\n",
       "      <td>18</td>\n",
       "      <td>22</td>\n",
       "      <td>True</td>\n",
       "    </tr>\n",
       "    <tr>\n",
       "      <th>1</th>\n",
       "      <td>Euthanasia</td>\n",
       "      <td>365.0</td>\n",
       "      <td>0</td>\n",
       "      <td>1</td>\n",
       "      <td>0.0</td>\n",
       "      <td>0.0</td>\n",
       "      <td>1.0</td>\n",
       "      <td>0.0</td>\n",
       "      <td>2</td>\n",
       "      <td>1</td>\n",
       "      <td>...</td>\n",
       "      <td>False</td>\n",
       "      <td>1</td>\n",
       "      <td>False</td>\n",
       "      <td>2013</td>\n",
       "      <td>10</td>\n",
       "      <td>13</td>\n",
       "      <td>6</td>\n",
       "      <td>12</td>\n",
       "      <td>44</td>\n",
       "      <td>True</td>\n",
       "    </tr>\n",
       "    <tr>\n",
       "      <th>2</th>\n",
       "      <td>Adoption</td>\n",
       "      <td>730.0</td>\n",
       "      <td>1</td>\n",
       "      <td>0</td>\n",
       "      <td>0.0</td>\n",
       "      <td>1.0</td>\n",
       "      <td>0.0</td>\n",
       "      <td>0.0</td>\n",
       "      <td>2</td>\n",
       "      <td>1</td>\n",
       "      <td>...</td>\n",
       "      <td>False</td>\n",
       "      <td>2</td>\n",
       "      <td>True</td>\n",
       "      <td>2015</td>\n",
       "      <td>1</td>\n",
       "      <td>31</td>\n",
       "      <td>5</td>\n",
       "      <td>12</td>\n",
       "      <td>28</td>\n",
       "      <td>True</td>\n",
       "    </tr>\n",
       "    <tr>\n",
       "      <th>3</th>\n",
       "      <td>Transfer</td>\n",
       "      <td>21.0</td>\n",
       "      <td>1</td>\n",
       "      <td>0</td>\n",
       "      <td>1.0</td>\n",
       "      <td>0.0</td>\n",
       "      <td>0.0</td>\n",
       "      <td>0.0</td>\n",
       "      <td>2</td>\n",
       "      <td>1</td>\n",
       "      <td>...</td>\n",
       "      <td>False</td>\n",
       "      <td>1</td>\n",
       "      <td>False</td>\n",
       "      <td>2014</td>\n",
       "      <td>7</td>\n",
       "      <td>11</td>\n",
       "      <td>4</td>\n",
       "      <td>19</td>\n",
       "      <td>9</td>\n",
       "      <td>False</td>\n",
       "    </tr>\n",
       "    <tr>\n",
       "      <th>4</th>\n",
       "      <td>Transfer</td>\n",
       "      <td>730.0</td>\n",
       "      <td>1</td>\n",
       "      <td>0</td>\n",
       "      <td>0.0</td>\n",
       "      <td>1.0</td>\n",
       "      <td>0.0</td>\n",
       "      <td>0.0</td>\n",
       "      <td>2</td>\n",
       "      <td>0</td>\n",
       "      <td>...</td>\n",
       "      <td>False</td>\n",
       "      <td>1</td>\n",
       "      <td>True</td>\n",
       "      <td>2013</td>\n",
       "      <td>11</td>\n",
       "      <td>15</td>\n",
       "      <td>4</td>\n",
       "      <td>12</td>\n",
       "      <td>52</td>\n",
       "      <td>False</td>\n",
       "    </tr>\n",
       "  </tbody>\n",
       "</table>\n",
       "<p>5 rows × 280 columns</p>\n",
       "</div>"
      ],
      "text/plain": [
       "       OutcomeType  AgeuponOutcome  Male  Female  SexType_Intact  \\\n",
       "0  Return_to_owner           365.0     1       0             0.0   \n",
       "1       Euthanasia           365.0     0       1             0.0   \n",
       "2         Adoption           730.0     1       0             0.0   \n",
       "3         Transfer            21.0     1       0             1.0   \n",
       "4         Transfer           730.0     1       0             0.0   \n",
       "\n",
       "   SexType_Neutered  SexType_Spayed  SexType_Unknown  crosses  mix   ...     \\\n",
       "0               1.0             0.0              0.0        2    1   ...      \n",
       "1               0.0             1.0              0.0        2    1   ...      \n",
       "2               1.0             0.0              0.0        2    1   ...      \n",
       "3               0.0             0.0              0.0        2    1   ...      \n",
       "4               1.0             0.0              0.0        2    0   ...      \n",
       "\n",
       "  Color_Brown Color_num_mix animal_is_dog  Year Month Day Weekday Hour Minute  \\\n",
       "0        True             2          True  2014     2  12       2   18     22   \n",
       "1       False             1         False  2013    10  13       6   12     44   \n",
       "2       False             2          True  2015     1  31       5   12     28   \n",
       "3       False             1         False  2014     7  11       4   19      9   \n",
       "4       False             1          True  2013    11  15       4   12     52   \n",
       "\n",
       "  has_name  \n",
       "0     True  \n",
       "1     True  \n",
       "2     True  \n",
       "3    False  \n",
       "4    False  \n",
       "\n",
       "[5 rows x 280 columns]"
      ]
     },
     "execution_count": 3,
     "metadata": {},
     "output_type": "execute_result"
    }
   ],
   "source": [
    "train.head(5)"
   ]
  },
  {
   "cell_type": "code",
   "execution_count": 4,
   "metadata": {
    "collapsed": false
   },
   "outputs": [
    {
     "data": {
      "text/html": [
       "<div>\n",
       "<table border=\"1\" class=\"dataframe\">\n",
       "  <thead>\n",
       "    <tr style=\"text-align: right;\">\n",
       "      <th></th>\n",
       "      <th>ID</th>\n",
       "      <th>AgeuponOutcome</th>\n",
       "      <th>Male</th>\n",
       "      <th>Female</th>\n",
       "      <th>SexType_Intact</th>\n",
       "      <th>SexType_Neutered</th>\n",
       "      <th>SexType_Spayed</th>\n",
       "      <th>SexType_Unknown</th>\n",
       "      <th>crosses</th>\n",
       "      <th>mix</th>\n",
       "      <th>...</th>\n",
       "      <th>Color_Brown</th>\n",
       "      <th>Color_num_mix</th>\n",
       "      <th>animal_is_dog</th>\n",
       "      <th>Year</th>\n",
       "      <th>Month</th>\n",
       "      <th>Day</th>\n",
       "      <th>Weekday</th>\n",
       "      <th>Hour</th>\n",
       "      <th>Minute</th>\n",
       "      <th>has_name</th>\n",
       "    </tr>\n",
       "  </thead>\n",
       "  <tbody>\n",
       "    <tr>\n",
       "      <th>0</th>\n",
       "      <td>1</td>\n",
       "      <td>305.0</td>\n",
       "      <td>0</td>\n",
       "      <td>1</td>\n",
       "      <td>1.0</td>\n",
       "      <td>0.0</td>\n",
       "      <td>0.0</td>\n",
       "      <td>0.0</td>\n",
       "      <td>2</td>\n",
       "      <td>1</td>\n",
       "      <td>...</td>\n",
       "      <td>False</td>\n",
       "      <td>2</td>\n",
       "      <td>True</td>\n",
       "      <td>2015</td>\n",
       "      <td>10</td>\n",
       "      <td>12</td>\n",
       "      <td>0</td>\n",
       "      <td>12</td>\n",
       "      <td>15</td>\n",
       "      <td>True</td>\n",
       "    </tr>\n",
       "    <tr>\n",
       "      <th>1</th>\n",
       "      <td>2</td>\n",
       "      <td>730.0</td>\n",
       "      <td>0</td>\n",
       "      <td>1</td>\n",
       "      <td>0.0</td>\n",
       "      <td>0.0</td>\n",
       "      <td>1.0</td>\n",
       "      <td>0.0</td>\n",
       "      <td>2</td>\n",
       "      <td>0</td>\n",
       "      <td>...</td>\n",
       "      <td>False</td>\n",
       "      <td>2</td>\n",
       "      <td>True</td>\n",
       "      <td>2014</td>\n",
       "      <td>7</td>\n",
       "      <td>26</td>\n",
       "      <td>5</td>\n",
       "      <td>17</td>\n",
       "      <td>59</td>\n",
       "      <td>True</td>\n",
       "    </tr>\n",
       "    <tr>\n",
       "      <th>2</th>\n",
       "      <td>3</td>\n",
       "      <td>365.0</td>\n",
       "      <td>1</td>\n",
       "      <td>0</td>\n",
       "      <td>0.0</td>\n",
       "      <td>1.0</td>\n",
       "      <td>0.0</td>\n",
       "      <td>0.0</td>\n",
       "      <td>2</td>\n",
       "      <td>1</td>\n",
       "      <td>...</td>\n",
       "      <td>True</td>\n",
       "      <td>1</td>\n",
       "      <td>False</td>\n",
       "      <td>2016</td>\n",
       "      <td>1</td>\n",
       "      <td>13</td>\n",
       "      <td>2</td>\n",
       "      <td>12</td>\n",
       "      <td>20</td>\n",
       "      <td>True</td>\n",
       "    </tr>\n",
       "    <tr>\n",
       "      <th>3</th>\n",
       "      <td>4</td>\n",
       "      <td>122.0</td>\n",
       "      <td>1</td>\n",
       "      <td>0</td>\n",
       "      <td>1.0</td>\n",
       "      <td>0.0</td>\n",
       "      <td>0.0</td>\n",
       "      <td>0.0</td>\n",
       "      <td>2</td>\n",
       "      <td>1</td>\n",
       "      <td>...</td>\n",
       "      <td>False</td>\n",
       "      <td>1</td>\n",
       "      <td>True</td>\n",
       "      <td>2013</td>\n",
       "      <td>12</td>\n",
       "      <td>28</td>\n",
       "      <td>5</td>\n",
       "      <td>18</td>\n",
       "      <td>12</td>\n",
       "      <td>True</td>\n",
       "    </tr>\n",
       "    <tr>\n",
       "      <th>4</th>\n",
       "      <td>5</td>\n",
       "      <td>730.0</td>\n",
       "      <td>1</td>\n",
       "      <td>0</td>\n",
       "      <td>0.0</td>\n",
       "      <td>1.0</td>\n",
       "      <td>0.0</td>\n",
       "      <td>0.0</td>\n",
       "      <td>2</td>\n",
       "      <td>1</td>\n",
       "      <td>...</td>\n",
       "      <td>False</td>\n",
       "      <td>1</td>\n",
       "      <td>True</td>\n",
       "      <td>2015</td>\n",
       "      <td>9</td>\n",
       "      <td>24</td>\n",
       "      <td>3</td>\n",
       "      <td>17</td>\n",
       "      <td>59</td>\n",
       "      <td>True</td>\n",
       "    </tr>\n",
       "  </tbody>\n",
       "</table>\n",
       "<p>5 rows × 280 columns</p>\n",
       "</div>"
      ],
      "text/plain": [
       "   ID  AgeuponOutcome  Male  Female  SexType_Intact  SexType_Neutered  \\\n",
       "0   1           305.0     0       1             1.0               0.0   \n",
       "1   2           730.0     0       1             0.0               0.0   \n",
       "2   3           365.0     1       0             0.0               1.0   \n",
       "3   4           122.0     1       0             1.0               0.0   \n",
       "4   5           730.0     1       0             0.0               1.0   \n",
       "\n",
       "   SexType_Spayed  SexType_Unknown  crosses  mix   ...    Color_Brown  \\\n",
       "0             0.0              0.0        2    1   ...          False   \n",
       "1             1.0              0.0        2    0   ...          False   \n",
       "2             0.0              0.0        2    1   ...           True   \n",
       "3             0.0              0.0        2    1   ...          False   \n",
       "4             0.0              0.0        2    1   ...          False   \n",
       "\n",
       "  Color_num_mix animal_is_dog  Year Month Day Weekday Hour Minute has_name  \n",
       "0             2          True  2015    10  12       0   12     15     True  \n",
       "1             2          True  2014     7  26       5   17     59     True  \n",
       "2             1         False  2016     1  13       2   12     20     True  \n",
       "3             1          True  2013    12  28       5   18     12     True  \n",
       "4             1          True  2015     9  24       3   17     59     True  \n",
       "\n",
       "[5 rows x 280 columns]"
      ]
     },
     "execution_count": 4,
     "metadata": {},
     "output_type": "execute_result"
    }
   ],
   "source": [
    "test.head(5)"
   ]
  },
  {
   "cell_type": "code",
   "execution_count": 5,
   "metadata": {
    "collapsed": false
   },
   "outputs": [
    {
     "name": "stdout",
     "output_type": "stream",
     "text": [
      "(26728, 279)\n",
      "(26728,)\n",
      "(11456, 279)\n"
     ]
    }
   ],
   "source": [
    "# split\n",
    "train_X = train.ix[:, train.columns != \"OutcomeType\"]\n",
    "train_Y = train[\"OutcomeType\"]\n",
    "\n",
    "test_ID = test[\"ID\"]\n",
    "test_X = test.ix[:, test.columns != \"ID\"]\n",
    "\n",
    "# if using the smote data set\n",
    "test_X.columns = [x.replace(\" \",\".\") for x in test_X.columns]\n",
    "\n",
    "print(train_X.shape)\n",
    "print(train_Y.shape)\n",
    "print(test_X.shape)\n",
    "\n",
    "train_X = train_X.astype(float)\n",
    "test_X = test_X.astype(float)"
   ]
  },
  {
   "cell_type": "code",
   "execution_count": 6,
   "metadata": {
    "collapsed": true
   },
   "outputs": [],
   "source": [
    "# function to write submission output\n",
    "def create_submission(pred):\n",
    "    sub = pd.DataFrame(pred)\n",
    "    sub[\"ID\"] = test_ID\n",
    "    cols = sub.columns.tolist()\n",
    "    cols = cols[-1:] + cols[:-1]\n",
    "    sub = sub[cols]\n",
    "    sub.columns = [\"ID\",\"Adoption\",\"Died\",\"Euthanasia\",\"Return_to_owner\",\"Transfer\"]\n",
    "    return sub"
   ]
  },
  {
   "cell_type": "code",
   "execution_count": 7,
   "metadata": {
    "collapsed": true
   },
   "outputs": [],
   "source": [
    "def multiclass_log_loss(y_true, y_pred, eps=1e-15):\n",
    "    \"\"\"Multi class version of Logarithmic Loss metric.\n",
    "    https://www.kaggle.com/wiki/MultiClassLogLoss\n",
    "\n",
    "    idea from this post:\n",
    "    http://www.kaggle.com/c/emc-data-science/forums/t/2149/is-anyone-noticing-difference-betwen-validation-\n",
    "    and-leaderboard-error/12209#post12209\n",
    "\n",
    "    Parameters\n",
    "    ----------\n",
    "    y_true : array, shape = [n_samples]\n",
    "    y_pred : array, shape = [n_samples, n_classes]\n",
    "\n",
    "    Returns\n",
    "    -------\n",
    "    loss : float\n",
    "    \"\"\"\n",
    "    predictions = np.clip(y_pred, eps, 1 - eps)\n",
    "\n",
    "    # normalize row sums to 1\n",
    "    predictions /= predictions.sum(axis=1)[:, np.newaxis]\n",
    "\n",
    "    actual = np.zeros(y_pred.shape)\n",
    "    rows = actual.shape[0]\n",
    "    actual[np.arange(rows), y_true.astype(int)] = 1\n",
    "    vsota = np.sum(actual * np.log(predictions))\n",
    "    return -1.0 / rows * vsota"
   ]
  },
  {
   "cell_type": "markdown",
   "metadata": {},
   "source": [
    "## random forest"
   ]
  },
  {
   "cell_type": "code",
   "execution_count": 232,
   "metadata": {
    "collapsed": false
   },
   "outputs": [],
   "source": [
    "model_rf = RandomForestClassifier(random_state=1, n_estimators=1000)\n",
    "model_rf = model_rf.fit(train_X, train_Y)"
   ]
  },
  {
   "cell_type": "code",
   "execution_count": 233,
   "metadata": {
    "collapsed": true
   },
   "outputs": [],
   "source": [
    "model_rf_pred = model_rf.predict_proba(test_X)"
   ]
  },
  {
   "cell_type": "code",
   "execution_count": 234,
   "metadata": {
    "collapsed": false
   },
   "outputs": [
    {
     "data": {
      "text/html": [
       "<div>\n",
       "<table border=\"1\" class=\"dataframe\">\n",
       "  <thead>\n",
       "    <tr style=\"text-align: right;\">\n",
       "      <th></th>\n",
       "      <th>ID</th>\n",
       "      <th>Adoption</th>\n",
       "      <th>Died</th>\n",
       "      <th>Euthanasia</th>\n",
       "      <th>Return_to_owner</th>\n",
       "      <th>Transfer</th>\n",
       "    </tr>\n",
       "  </thead>\n",
       "  <tbody>\n",
       "    <tr>\n",
       "      <th>0</th>\n",
       "      <td>1</td>\n",
       "      <td>0.083</td>\n",
       "      <td>0.001</td>\n",
       "      <td>0.053</td>\n",
       "      <td>0.190</td>\n",
       "      <td>0.673</td>\n",
       "    </tr>\n",
       "    <tr>\n",
       "      <th>1</th>\n",
       "      <td>2</td>\n",
       "      <td>0.661</td>\n",
       "      <td>0.000</td>\n",
       "      <td>0.016</td>\n",
       "      <td>0.239</td>\n",
       "      <td>0.084</td>\n",
       "    </tr>\n",
       "    <tr>\n",
       "      <th>2</th>\n",
       "      <td>3</td>\n",
       "      <td>0.418</td>\n",
       "      <td>0.002</td>\n",
       "      <td>0.014</td>\n",
       "      <td>0.184</td>\n",
       "      <td>0.382</td>\n",
       "    </tr>\n",
       "    <tr>\n",
       "      <th>3</th>\n",
       "      <td>4</td>\n",
       "      <td>0.194</td>\n",
       "      <td>0.004</td>\n",
       "      <td>0.048</td>\n",
       "      <td>0.268</td>\n",
       "      <td>0.486</td>\n",
       "    </tr>\n",
       "    <tr>\n",
       "      <th>4</th>\n",
       "      <td>5</td>\n",
       "      <td>0.376</td>\n",
       "      <td>0.001</td>\n",
       "      <td>0.008</td>\n",
       "      <td>0.497</td>\n",
       "      <td>0.118</td>\n",
       "    </tr>\n",
       "  </tbody>\n",
       "</table>\n",
       "</div>"
      ],
      "text/plain": [
       "   ID  Adoption   Died  Euthanasia  Return_to_owner  Transfer\n",
       "0   1     0.083  0.001       0.053            0.190     0.673\n",
       "1   2     0.661  0.000       0.016            0.239     0.084\n",
       "2   3     0.418  0.002       0.014            0.184     0.382\n",
       "3   4     0.194  0.004       0.048            0.268     0.486\n",
       "4   5     0.376  0.001       0.008            0.497     0.118"
      ]
     },
     "execution_count": 234,
     "metadata": {},
     "output_type": "execute_result"
    }
   ],
   "source": [
    "model_rf_submission = create_submission(model_rf_pred)\n",
    "model_rf_submission.head(5)"
   ]
  },
  {
   "cell_type": "code",
   "execution_count": 44,
   "metadata": {
    "collapsed": true
   },
   "outputs": [],
   "source": [
    "model_rf_submission.to_csv(\"submission/model_rf_1.csv\",index=False)"
   ]
  },
  {
   "cell_type": "markdown",
   "metadata": {},
   "source": [
    "## extremely randomized trees"
   ]
  },
  {
   "cell_type": "code",
   "execution_count": 268,
   "metadata": {
    "collapsed": false
   },
   "outputs": [
    {
     "data": {
      "text/plain": [
       "ExtraTreesClassifier(bootstrap=False, class_weight=None, criterion='gini',\n",
       "           max_depth=None, max_features='auto', max_leaf_nodes=None,\n",
       "           min_samples_leaf=1, min_samples_split=2,\n",
       "           min_weight_fraction_leaf=0.0, n_estimators=1000, n_jobs=-1,\n",
       "           oob_score=False, random_state=123, verbose=0, warm_start=False)"
      ]
     },
     "execution_count": 268,
     "metadata": {},
     "output_type": "execute_result"
    }
   ],
   "source": [
    "model_erf = ExtraTreesClassifier(n_jobs=-1, \n",
    "                                 random_state=123,\n",
    "                                 n_estimators=1000)\n",
    "model_erf.fit(train_X,train_Y)"
   ]
  },
  {
   "cell_type": "code",
   "execution_count": 269,
   "metadata": {
    "collapsed": true
   },
   "outputs": [],
   "source": [
    "model_erf_pred = model_erf.predict_proba(test_X)"
   ]
  },
  {
   "cell_type": "code",
   "execution_count": 270,
   "metadata": {
    "collapsed": false
   },
   "outputs": [
    {
     "data": {
      "text/html": [
       "<div>\n",
       "<table border=\"1\" class=\"dataframe\">\n",
       "  <thead>\n",
       "    <tr style=\"text-align: right;\">\n",
       "      <th></th>\n",
       "      <th>ID</th>\n",
       "      <th>Adoption</th>\n",
       "      <th>Died</th>\n",
       "      <th>Euthanasia</th>\n",
       "      <th>Return_to_owner</th>\n",
       "      <th>Transfer</th>\n",
       "    </tr>\n",
       "  </thead>\n",
       "  <tbody>\n",
       "    <tr>\n",
       "      <th>0</th>\n",
       "      <td>1</td>\n",
       "      <td>0.089</td>\n",
       "      <td>0.001</td>\n",
       "      <td>0.053</td>\n",
       "      <td>0.120</td>\n",
       "      <td>0.737</td>\n",
       "    </tr>\n",
       "    <tr>\n",
       "      <th>1</th>\n",
       "      <td>2</td>\n",
       "      <td>0.699</td>\n",
       "      <td>0.000</td>\n",
       "      <td>0.011</td>\n",
       "      <td>0.189</td>\n",
       "      <td>0.101</td>\n",
       "    </tr>\n",
       "    <tr>\n",
       "      <th>2</th>\n",
       "      <td>3</td>\n",
       "      <td>0.533</td>\n",
       "      <td>0.000</td>\n",
       "      <td>0.006</td>\n",
       "      <td>0.189</td>\n",
       "      <td>0.272</td>\n",
       "    </tr>\n",
       "    <tr>\n",
       "      <th>3</th>\n",
       "      <td>4</td>\n",
       "      <td>0.106</td>\n",
       "      <td>0.002</td>\n",
       "      <td>0.053</td>\n",
       "      <td>0.327</td>\n",
       "      <td>0.512</td>\n",
       "    </tr>\n",
       "    <tr>\n",
       "      <th>4</th>\n",
       "      <td>5</td>\n",
       "      <td>0.438</td>\n",
       "      <td>0.000</td>\n",
       "      <td>0.003</td>\n",
       "      <td>0.422</td>\n",
       "      <td>0.137</td>\n",
       "    </tr>\n",
       "  </tbody>\n",
       "</table>\n",
       "</div>"
      ],
      "text/plain": [
       "   ID  Adoption   Died  Euthanasia  Return_to_owner  Transfer\n",
       "0   1     0.089  0.001       0.053            0.120     0.737\n",
       "1   2     0.699  0.000       0.011            0.189     0.101\n",
       "2   3     0.533  0.000       0.006            0.189     0.272\n",
       "3   4     0.106  0.002       0.053            0.327     0.512\n",
       "4   5     0.438  0.000       0.003            0.422     0.137"
      ]
     },
     "execution_count": 270,
     "metadata": {},
     "output_type": "execute_result"
    }
   ],
   "source": [
    "model_erf_submission = create_submission(model_erf_pred)\n",
    "model_erf_submission.head(5)"
   ]
  },
  {
   "cell_type": "code",
   "execution_count": 271,
   "metadata": {
    "collapsed": true
   },
   "outputs": [],
   "source": [
    "model_rf_submission.to_csv(\"submission/model_erf_1.csv\",index=False)"
   ]
  },
  {
   "cell_type": "markdown",
   "metadata": {},
   "source": [
    "## xgboost"
   ]
  },
  {
   "cell_type": "code",
   "execution_count": 8,
   "metadata": {
    "collapsed": false
   },
   "outputs": [],
   "source": [
    "mapping = {\n",
    "    \"Adoption\": 0,\n",
    "    \"Died\": 1,\n",
    "    \"Euthanasia\": 2,\n",
    "    \"Return_to_owner\": 3,\n",
    "    \"Transfer\": 4\n",
    "}\n",
    "train_Y = train_Y.replace(mapping)"
   ]
  },
  {
   "cell_type": "code",
   "execution_count": 9,
   "metadata": {
    "collapsed": false
   },
   "outputs": [],
   "source": [
    "# compile datasets\n",
    "dtrain = xgb.DMatrix(train_X, label=train_Y)\n",
    "dtest = xgb.DMatrix(test_X)"
   ]
  },
  {
   "cell_type": "code",
   "execution_count": 10,
   "metadata": {
    "collapsed": false
   },
   "outputs": [],
   "source": [
    "# parameters\n",
    "param = {\n",
    "    'objective': 'multi:softprob',\n",
    "    'bst:max_depth': 8, \n",
    "    'bst:eta': 0.1,\n",
    "    'silent': 1, \n",
    "    'gamma': 0.01,\n",
    "    # \"min_child_weight\": 3,\n",
    "    'num_class': 5,\n",
    "    'verbose': 1,\n",
    "    'subsample': 0.8,\n",
    "    'nthread': 4\n",
    "}\n",
    "num_rounds = 200"
   ]
  },
  {
   "cell_type": "code",
   "execution_count": 11,
   "metadata": {
    "collapsed": false
   },
   "outputs": [],
   "source": [
    "# train\n",
    "model_xgb = xgb.train(param, dtrain, num_rounds)"
   ]
  },
  {
   "cell_type": "code",
   "execution_count": 12,
   "metadata": {
    "collapsed": false
   },
   "outputs": [],
   "source": [
    "# predict\n",
    "model_xgb_pred = model_xgb.predict(dtest)"
   ]
  },
  {
   "cell_type": "code",
   "execution_count": 13,
   "metadata": {
    "collapsed": false
   },
   "outputs": [
    {
     "data": {
      "text/html": [
       "<div>\n",
       "<table border=\"1\" class=\"dataframe\">\n",
       "  <thead>\n",
       "    <tr style=\"text-align: right;\">\n",
       "      <th></th>\n",
       "      <th>ID</th>\n",
       "      <th>Adoption</th>\n",
       "      <th>Died</th>\n",
       "      <th>Euthanasia</th>\n",
       "      <th>Return_to_owner</th>\n",
       "      <th>Transfer</th>\n",
       "    </tr>\n",
       "  </thead>\n",
       "  <tbody>\n",
       "    <tr>\n",
       "      <th>0</th>\n",
       "      <td>1</td>\n",
       "      <td>0.015095</td>\n",
       "      <td>0.000489</td>\n",
       "      <td>0.032278</td>\n",
       "      <td>0.160610</td>\n",
       "      <td>0.791527</td>\n",
       "    </tr>\n",
       "    <tr>\n",
       "      <th>1</th>\n",
       "      <td>2</td>\n",
       "      <td>0.512545</td>\n",
       "      <td>0.000250</td>\n",
       "      <td>0.007197</td>\n",
       "      <td>0.442108</td>\n",
       "      <td>0.037900</td>\n",
       "    </tr>\n",
       "    <tr>\n",
       "      <th>2</th>\n",
       "      <td>3</td>\n",
       "      <td>0.446164</td>\n",
       "      <td>0.000734</td>\n",
       "      <td>0.005829</td>\n",
       "      <td>0.151879</td>\n",
       "      <td>0.395395</td>\n",
       "    </tr>\n",
       "    <tr>\n",
       "      <th>3</th>\n",
       "      <td>4</td>\n",
       "      <td>0.162331</td>\n",
       "      <td>0.000879</td>\n",
       "      <td>0.007747</td>\n",
       "      <td>0.379517</td>\n",
       "      <td>0.449525</td>\n",
       "    </tr>\n",
       "    <tr>\n",
       "      <th>4</th>\n",
       "      <td>5</td>\n",
       "      <td>0.384003</td>\n",
       "      <td>0.000582</td>\n",
       "      <td>0.002657</td>\n",
       "      <td>0.552297</td>\n",
       "      <td>0.060461</td>\n",
       "    </tr>\n",
       "  </tbody>\n",
       "</table>\n",
       "</div>"
      ],
      "text/plain": [
       "   ID  Adoption      Died  Euthanasia  Return_to_owner  Transfer\n",
       "0   1  0.015095  0.000489    0.032278         0.160610  0.791527\n",
       "1   2  0.512545  0.000250    0.007197         0.442108  0.037900\n",
       "2   3  0.446164  0.000734    0.005829         0.151879  0.395395\n",
       "3   4  0.162331  0.000879    0.007747         0.379517  0.449525\n",
       "4   5  0.384003  0.000582    0.002657         0.552297  0.060461"
      ]
     },
     "execution_count": 13,
     "metadata": {},
     "output_type": "execute_result"
    }
   ],
   "source": [
    "# submission\n",
    "model_xgb_submission = create_submission(model_xgb_pred)\n",
    "model_xgb_submission.head(5)"
   ]
  },
  {
   "cell_type": "code",
   "execution_count": 27,
   "metadata": {
    "collapsed": true
   },
   "outputs": [],
   "source": [
    "# write to csv\n",
    "# model_xgb_submission.to_csv(\"submission/model_xgb.csv\",index=False)"
   ]
  },
  {
   "cell_type": "code",
   "execution_count": 14,
   "metadata": {
    "collapsed": false
   },
   "outputs": [],
   "source": [
    "# feature importance\n",
    "importance = model_xgb.get_fscore()\n",
    "importance = sorted(importance.items(), key=operator.itemgetter(1))"
   ]
  },
  {
   "cell_type": "code",
   "execution_count": 15,
   "metadata": {
    "collapsed": false
   },
   "outputs": [
    {
     "data": {
      "text/html": [
       "<div>\n",
       "<table border=\"1\" class=\"dataframe\">\n",
       "  <thead>\n",
       "    <tr style=\"text-align: right;\">\n",
       "      <th></th>\n",
       "      <th>feature</th>\n",
       "      <th>fscore</th>\n",
       "    </tr>\n",
       "  </thead>\n",
       "  <tbody>\n",
       "    <tr>\n",
       "      <th>172</th>\n",
       "      <td>Minute</td>\n",
       "      <td>0.165567</td>\n",
       "    </tr>\n",
       "    <tr>\n",
       "      <th>171</th>\n",
       "      <td>Day</td>\n",
       "      <td>0.121390</td>\n",
       "    </tr>\n",
       "    <tr>\n",
       "      <th>170</th>\n",
       "      <td>AgeuponOutcome</td>\n",
       "      <td>0.107929</td>\n",
       "    </tr>\n",
       "    <tr>\n",
       "      <th>169</th>\n",
       "      <td>Hour</td>\n",
       "      <td>0.105464</td>\n",
       "    </tr>\n",
       "    <tr>\n",
       "      <th>168</th>\n",
       "      <td>Weekday</td>\n",
       "      <td>0.094436</td>\n",
       "    </tr>\n",
       "  </tbody>\n",
       "</table>\n",
       "</div>"
      ],
      "text/plain": [
       "            feature    fscore\n",
       "172          Minute  0.165567\n",
       "171             Day  0.121390\n",
       "170  AgeuponOutcome  0.107929\n",
       "169            Hour  0.105464\n",
       "168         Weekday  0.094436"
      ]
     },
     "execution_count": 15,
     "metadata": {},
     "output_type": "execute_result"
    }
   ],
   "source": [
    "df = pd.DataFrame(importance, columns=['feature', 'fscore'])\n",
    "df['fscore'] = df['fscore'] / df['fscore'].sum()\n",
    "df = df.sort_values(\"fscore\",ascending=False)\n",
    "df.head(5)"
   ]
  },
  {
   "cell_type": "markdown",
   "metadata": {},
   "source": [
    "## xgb error analysis"
   ]
  },
  {
   "cell_type": "code",
   "execution_count": 17,
   "metadata": {
    "collapsed": false
   },
   "outputs": [],
   "source": [
    "mapping = {\n",
    "    \"Adoption\": 0,\n",
    "    \"Died\": 1,\n",
    "    \"Euthanasia\": 2,\n",
    "    \"Return_to_owner\": 3,\n",
    "    \"Transfer\": 4\n",
    "}\n",
    "train_Y = train_Y.replace(mapping)"
   ]
  },
  {
   "cell_type": "code",
   "execution_count": 18,
   "metadata": {
    "collapsed": true
   },
   "outputs": [],
   "source": [
    "# split train-validate\n",
    "err_train_X, err_val_X, err_train_Y, err_val_Y = train_test_split(train_X, train_Y, test_size=0.20, random_state=123)"
   ]
  },
  {
   "cell_type": "code",
   "execution_count": 19,
   "metadata": {
    "collapsed": true
   },
   "outputs": [],
   "source": [
    "# compile datasets\n",
    "err_dtrain = xgb.DMatrix(err_train_X, label=err_train_Y)\n",
    "err_dvalidate = xgb.DMatrix(err_val_X)"
   ]
  },
  {
   "cell_type": "code",
   "execution_count": 20,
   "metadata": {
    "collapsed": true
   },
   "outputs": [],
   "source": [
    "# parameters\n",
    "param = {\n",
    "    'objective': 'multi:softprob',\n",
    "    'bst:max_depth': 8, \n",
    "    'bst:eta': 0.1,\n",
    "    'silent': 1, \n",
    "    'gamma': 0.01,\n",
    "    'num_class': 5,\n",
    "    'verbose': 1,\n",
    "    'subsample': 0.8,\n",
    "    'nthread': 4\n",
    "}\n",
    "num_rounds = 200"
   ]
  },
  {
   "cell_type": "code",
   "execution_count": 21,
   "metadata": {
    "collapsed": true
   },
   "outputs": [],
   "source": [
    "# train\n",
    "model_xgb_err = xgb.train(param, err_dtrain, num_rounds)"
   ]
  },
  {
   "cell_type": "code",
   "execution_count": 22,
   "metadata": {
    "collapsed": false
   },
   "outputs": [],
   "source": [
    "# predict\n",
    "model_xgb_err_pred = model_xgb_err.predict(err_dvalidate)"
   ]
  },
  {
   "cell_type": "code",
   "execution_count": 23,
   "metadata": {
    "collapsed": false
   },
   "outputs": [],
   "source": [
    "# prdicted class\n",
    "model_xgb_err_pred_class = model_xgb_err_pred.argmax(axis=1)"
   ]
  },
  {
   "cell_type": "code",
   "execution_count": 24,
   "metadata": {
    "collapsed": false
   },
   "outputs": [
    {
     "data": {
      "text/html": [
       "<div>\n",
       "<table border=\"1\" class=\"dataframe\">\n",
       "  <thead>\n",
       "    <tr style=\"text-align: right;\">\n",
       "      <th></th>\n",
       "      <th>AgeuponOutcome</th>\n",
       "      <th>Male</th>\n",
       "      <th>Female</th>\n",
       "      <th>SexType_Intact</th>\n",
       "      <th>SexType_Neutered</th>\n",
       "      <th>SexType_Spayed</th>\n",
       "      <th>SexType_Unknown</th>\n",
       "      <th>crosses</th>\n",
       "      <th>mix</th>\n",
       "      <th>Breed_American_Pit_Bull_Terrier</th>\n",
       "      <th>...</th>\n",
       "      <th>Color_Brown</th>\n",
       "      <th>Color_num_mix</th>\n",
       "      <th>animal_is_dog</th>\n",
       "      <th>Year</th>\n",
       "      <th>Month</th>\n",
       "      <th>Day</th>\n",
       "      <th>Weekday</th>\n",
       "      <th>Hour</th>\n",
       "      <th>Minute</th>\n",
       "      <th>has_name</th>\n",
       "    </tr>\n",
       "  </thead>\n",
       "  <tbody>\n",
       "    <tr>\n",
       "      <th>5887</th>\n",
       "      <td>730.0</td>\n",
       "      <td>1.0</td>\n",
       "      <td>0.0</td>\n",
       "      <td>0.0</td>\n",
       "      <td>1.0</td>\n",
       "      <td>0.0</td>\n",
       "      <td>0.0</td>\n",
       "      <td>2.0</td>\n",
       "      <td>1.0</td>\n",
       "      <td>0.0</td>\n",
       "      <td>...</td>\n",
       "      <td>0.0</td>\n",
       "      <td>2.0</td>\n",
       "      <td>1.0</td>\n",
       "      <td>2013.0</td>\n",
       "      <td>12.0</td>\n",
       "      <td>12.0</td>\n",
       "      <td>3.0</td>\n",
       "      <td>16.0</td>\n",
       "      <td>51.0</td>\n",
       "      <td>1.0</td>\n",
       "    </tr>\n",
       "    <tr>\n",
       "      <th>16717</th>\n",
       "      <td>730.0</td>\n",
       "      <td>1.0</td>\n",
       "      <td>0.0</td>\n",
       "      <td>0.0</td>\n",
       "      <td>1.0</td>\n",
       "      <td>0.0</td>\n",
       "      <td>0.0</td>\n",
       "      <td>2.0</td>\n",
       "      <td>1.0</td>\n",
       "      <td>0.0</td>\n",
       "      <td>...</td>\n",
       "      <td>0.0</td>\n",
       "      <td>1.0</td>\n",
       "      <td>1.0</td>\n",
       "      <td>2014.0</td>\n",
       "      <td>6.0</td>\n",
       "      <td>26.0</td>\n",
       "      <td>3.0</td>\n",
       "      <td>15.0</td>\n",
       "      <td>28.0</td>\n",
       "      <td>1.0</td>\n",
       "    </tr>\n",
       "    <tr>\n",
       "      <th>5391</th>\n",
       "      <td>730.0</td>\n",
       "      <td>0.0</td>\n",
       "      <td>1.0</td>\n",
       "      <td>0.0</td>\n",
       "      <td>0.0</td>\n",
       "      <td>1.0</td>\n",
       "      <td>0.0</td>\n",
       "      <td>2.0</td>\n",
       "      <td>0.0</td>\n",
       "      <td>0.0</td>\n",
       "      <td>...</td>\n",
       "      <td>1.0</td>\n",
       "      <td>2.0</td>\n",
       "      <td>1.0</td>\n",
       "      <td>2013.0</td>\n",
       "      <td>11.0</td>\n",
       "      <td>15.0</td>\n",
       "      <td>4.0</td>\n",
       "      <td>17.0</td>\n",
       "      <td>40.0</td>\n",
       "      <td>1.0</td>\n",
       "    </tr>\n",
       "    <tr>\n",
       "      <th>24775</th>\n",
       "      <td>91.5</td>\n",
       "      <td>1.0</td>\n",
       "      <td>0.0</td>\n",
       "      <td>0.0</td>\n",
       "      <td>1.0</td>\n",
       "      <td>0.0</td>\n",
       "      <td>0.0</td>\n",
       "      <td>2.0</td>\n",
       "      <td>1.0</td>\n",
       "      <td>0.0</td>\n",
       "      <td>...</td>\n",
       "      <td>0.0</td>\n",
       "      <td>2.0</td>\n",
       "      <td>1.0</td>\n",
       "      <td>2014.0</td>\n",
       "      <td>6.0</td>\n",
       "      <td>26.0</td>\n",
       "      <td>3.0</td>\n",
       "      <td>8.0</td>\n",
       "      <td>57.0</td>\n",
       "      <td>1.0</td>\n",
       "    </tr>\n",
       "    <tr>\n",
       "      <th>25499</th>\n",
       "      <td>730.0</td>\n",
       "      <td>1.0</td>\n",
       "      <td>0.0</td>\n",
       "      <td>0.0</td>\n",
       "      <td>1.0</td>\n",
       "      <td>0.0</td>\n",
       "      <td>0.0</td>\n",
       "      <td>2.0</td>\n",
       "      <td>1.0</td>\n",
       "      <td>0.0</td>\n",
       "      <td>...</td>\n",
       "      <td>1.0</td>\n",
       "      <td>2.0</td>\n",
       "      <td>0.0</td>\n",
       "      <td>2015.0</td>\n",
       "      <td>4.0</td>\n",
       "      <td>25.0</td>\n",
       "      <td>5.0</td>\n",
       "      <td>17.0</td>\n",
       "      <td>2.0</td>\n",
       "      <td>1.0</td>\n",
       "    </tr>\n",
       "  </tbody>\n",
       "</table>\n",
       "<p>5 rows × 279 columns</p>\n",
       "</div>"
      ],
      "text/plain": [
       "       AgeuponOutcome  Male  Female  SexType_Intact  SexType_Neutered  \\\n",
       "5887            730.0   1.0     0.0             0.0               1.0   \n",
       "16717           730.0   1.0     0.0             0.0               1.0   \n",
       "5391            730.0   0.0     1.0             0.0               0.0   \n",
       "24775            91.5   1.0     0.0             0.0               1.0   \n",
       "25499           730.0   1.0     0.0             0.0               1.0   \n",
       "\n",
       "       SexType_Spayed  SexType_Unknown  crosses  mix  \\\n",
       "5887              0.0              0.0      2.0  1.0   \n",
       "16717             0.0              0.0      2.0  1.0   \n",
       "5391              1.0              0.0      2.0  0.0   \n",
       "24775             0.0              0.0      2.0  1.0   \n",
       "25499             0.0              0.0      2.0  1.0   \n",
       "\n",
       "       Breed_American_Pit_Bull_Terrier    ...     Color_Brown  Color_num_mix  \\\n",
       "5887                               0.0    ...             0.0            2.0   \n",
       "16717                              0.0    ...             0.0            1.0   \n",
       "5391                               0.0    ...             1.0            2.0   \n",
       "24775                              0.0    ...             0.0            2.0   \n",
       "25499                              0.0    ...             1.0            2.0   \n",
       "\n",
       "       animal_is_dog    Year  Month   Day  Weekday  Hour  Minute  has_name  \n",
       "5887             1.0  2013.0   12.0  12.0      3.0  16.0    51.0       1.0  \n",
       "16717            1.0  2014.0    6.0  26.0      3.0  15.0    28.0       1.0  \n",
       "5391             1.0  2013.0   11.0  15.0      4.0  17.0    40.0       1.0  \n",
       "24775            1.0  2014.0    6.0  26.0      3.0   8.0    57.0       1.0  \n",
       "25499            0.0  2015.0    4.0  25.0      5.0  17.0     2.0       1.0  \n",
       "\n",
       "[5 rows x 279 columns]"
      ]
     },
     "execution_count": 24,
     "metadata": {},
     "output_type": "execute_result"
    }
   ],
   "source": [
    "wrong_pred_data = err_val_X[model_xgb_err_pred_class != err_val_Y]\n",
    "wrong_pred_data.head(5)"
   ]
  },
  {
   "cell_type": "code",
   "execution_count": 25,
   "metadata": {
    "collapsed": false
   },
   "outputs": [
    {
     "data": {
      "text/html": [
       "<div>\n",
       "<table border=\"1\" class=\"dataframe\">\n",
       "  <thead>\n",
       "    <tr style=\"text-align: right;\">\n",
       "      <th>OutcomeType</th>\n",
       "      <th>0</th>\n",
       "      <th>1</th>\n",
       "      <th>2</th>\n",
       "      <th>3</th>\n",
       "      <th>4</th>\n",
       "      <th>All</th>\n",
       "    </tr>\n",
       "    <tr>\n",
       "      <th>row_0</th>\n",
       "      <th></th>\n",
       "      <th></th>\n",
       "      <th></th>\n",
       "      <th></th>\n",
       "      <th></th>\n",
       "      <th></th>\n",
       "    </tr>\n",
       "  </thead>\n",
       "  <tbody>\n",
       "    <tr>\n",
       "      <th>0</th>\n",
       "      <td>1783</td>\n",
       "      <td>5</td>\n",
       "      <td>31</td>\n",
       "      <td>352</td>\n",
       "      <td>322</td>\n",
       "      <td>2493</td>\n",
       "    </tr>\n",
       "    <tr>\n",
       "      <th>1</th>\n",
       "      <td>0</td>\n",
       "      <td>3</td>\n",
       "      <td>0</td>\n",
       "      <td>0</td>\n",
       "      <td>0</td>\n",
       "      <td>3</td>\n",
       "    </tr>\n",
       "    <tr>\n",
       "      <th>2</th>\n",
       "      <td>6</td>\n",
       "      <td>5</td>\n",
       "      <td>97</td>\n",
       "      <td>11</td>\n",
       "      <td>26</td>\n",
       "      <td>145</td>\n",
       "    </tr>\n",
       "    <tr>\n",
       "      <th>3</th>\n",
       "      <td>222</td>\n",
       "      <td>0</td>\n",
       "      <td>65</td>\n",
       "      <td>468</td>\n",
       "      <td>156</td>\n",
       "      <td>911</td>\n",
       "    </tr>\n",
       "    <tr>\n",
       "      <th>4</th>\n",
       "      <td>133</td>\n",
       "      <td>24</td>\n",
       "      <td>146</td>\n",
       "      <td>113</td>\n",
       "      <td>1378</td>\n",
       "      <td>1794</td>\n",
       "    </tr>\n",
       "    <tr>\n",
       "      <th>All</th>\n",
       "      <td>2144</td>\n",
       "      <td>37</td>\n",
       "      <td>339</td>\n",
       "      <td>944</td>\n",
       "      <td>1882</td>\n",
       "      <td>5346</td>\n",
       "    </tr>\n",
       "  </tbody>\n",
       "</table>\n",
       "</div>"
      ],
      "text/plain": [
       "OutcomeType     0   1    2    3     4   All\n",
       "row_0                                      \n",
       "0            1783   5   31  352   322  2493\n",
       "1               0   3    0    0     0     3\n",
       "2               6   5   97   11    26   145\n",
       "3             222   0   65  468   156   911\n",
       "4             133  24  146  113  1378  1794\n",
       "All          2144  37  339  944  1882  5346"
      ]
     },
     "execution_count": 25,
     "metadata": {},
     "output_type": "execute_result"
    }
   ],
   "source": [
    "# check where errors are\n",
    "pd.crosstab(model_xgb_err_pred_class, err_val_Y, margins=True)"
   ]
  },
  {
   "cell_type": "markdown",
   "metadata": {
    "collapsed": true
   },
   "source": [
    "## xgb_grid_search and xgb_combined"
   ]
  },
  {
   "cell_type": "code",
   "execution_count": 42,
   "metadata": {
    "collapsed": true
   },
   "outputs": [],
   "source": [
    "def xgb_grid_search(train_X, train_Y, test_X):\n",
    "    # parameters\n",
    "    param = {\n",
    "        'objective': 'multi:softprob', \n",
    "        'silent': 1, \n",
    "        'num_class': 5,\n",
    "        'verbose': 1,\n",
    "        'nthread': 4 \n",
    "    }\n",
    "    max_depths = [6, 8]\n",
    "    etas = [0.1, 0.2]\n",
    "    num_rounds = [100, 200]\n",
    "    gammas = [0.01, 0.02]\n",
    "    \n",
    "    # split\n",
    "    X_train, X_validate, y_train, y_validate = train_test_split(train_X, train_Y, test_size=0.20, random_state=123)\n",
    "    train_set = xgb.DMatrix(X_train, label=y_train)\n",
    "    validate_set = xgb.DMatrix(X_validate)\n",
    "    \n",
    "    # store result\n",
    "    result = pd.DataFrame(columns=[\"max_depth\", \"eta\", \"gamma\", \"num_rounds\", \"loss\"])\n",
    "    \n",
    "    # loop\n",
    "    i = 0\n",
    "    for i1 in max_depths:\n",
    "        for i2 in etas:\n",
    "            for i3 in gammas:\n",
    "                for i4 in num_rounds:\n",
    "                    param[\"bst:max_depths\"] = i1\n",
    "                    param[\"bst:eta\"] = i2\n",
    "                    param[\"gamma\"] = i3\n",
    "\n",
    "                    # train\n",
    "                    temp_model = xgb.train(param, train_set, i4)\n",
    "                    temp_model_pred = temp_model.predict(validate_set)\n",
    "\n",
    "                    # calculate loss\n",
    "                    temp_loss = multiclass_log_loss(y_validate, temp_model_pred)\n",
    "                    print(\"%d, %.2f, %d, %d, %f\" % (i1, i2, i3, i4, temp_loss))\n",
    "\n",
    "                    # write\n",
    "                    result.loc[i] = [i1, i2, i3, i4, temp_loss]\n",
    "                    i += 1\n",
    "    \n",
    "    # return\n",
    "    return result            "
   ]
  },
  {
   "cell_type": "code",
   "execution_count": 43,
   "metadata": {
    "collapsed": false
   },
   "outputs": [
    {
     "name": "stdout",
     "output_type": "stream",
     "text": [
      "6, 0.100000.2, 0, 100, 0.751412\n",
      "6, 0.100000.2, 0, 200, 0.750025\n",
      "6, 0.100000.2, 0, 100, 0.751302\n",
      "6, 0.100000.2, 0, 200, 0.749474\n",
      "6, 0.200000.2, 0, 100, 0.751770\n",
      "6, 0.200000.2, 0, 200, 0.756768\n",
      "6, 0.200000.2, 0, 100, 0.751307\n",
      "6, 0.200000.2, 0, 200, 0.757841\n",
      "8, 0.100000.2, 0, 100, 0.751412\n",
      "8, 0.100000.2, 0, 200, 0.750025\n",
      "8, 0.100000.2, 0, 100, 0.751302\n",
      "8, 0.100000.2, 0, 200, 0.749474\n",
      "8, 0.200000.2, 0, 100, 0.751770\n",
      "8, 0.200000.2, 0, 200, 0.756768\n",
      "8, 0.200000.2, 0, 100, 0.751307\n",
      "8, 0.200000.2, 0, 200, 0.757841\n"
     ]
    },
    {
     "data": {
      "text/html": [
       "<div>\n",
       "<table border=\"1\" class=\"dataframe\">\n",
       "  <thead>\n",
       "    <tr style=\"text-align: right;\">\n",
       "      <th></th>\n",
       "      <th>max_depth</th>\n",
       "      <th>eta</th>\n",
       "      <th>gamma</th>\n",
       "      <th>num_rounds</th>\n",
       "      <th>loss</th>\n",
       "    </tr>\n",
       "  </thead>\n",
       "  <tbody>\n",
       "    <tr>\n",
       "      <th>3</th>\n",
       "      <td>6.0</td>\n",
       "      <td>0.1</td>\n",
       "      <td>0.02</td>\n",
       "      <td>200.0</td>\n",
       "      <td>0.749474</td>\n",
       "    </tr>\n",
       "    <tr>\n",
       "      <th>11</th>\n",
       "      <td>8.0</td>\n",
       "      <td>0.1</td>\n",
       "      <td>0.02</td>\n",
       "      <td>200.0</td>\n",
       "      <td>0.749474</td>\n",
       "    </tr>\n",
       "    <tr>\n",
       "      <th>1</th>\n",
       "      <td>6.0</td>\n",
       "      <td>0.1</td>\n",
       "      <td>0.01</td>\n",
       "      <td>200.0</td>\n",
       "      <td>0.750025</td>\n",
       "    </tr>\n",
       "    <tr>\n",
       "      <th>9</th>\n",
       "      <td>8.0</td>\n",
       "      <td>0.1</td>\n",
       "      <td>0.01</td>\n",
       "      <td>200.0</td>\n",
       "      <td>0.750025</td>\n",
       "    </tr>\n",
       "    <tr>\n",
       "      <th>2</th>\n",
       "      <td>6.0</td>\n",
       "      <td>0.1</td>\n",
       "      <td>0.02</td>\n",
       "      <td>100.0</td>\n",
       "      <td>0.751302</td>\n",
       "    </tr>\n",
       "  </tbody>\n",
       "</table>\n",
       "</div>"
      ],
      "text/plain": [
       "    max_depth  eta  gamma  num_rounds      loss\n",
       "3         6.0  0.1   0.02       200.0  0.749474\n",
       "11        8.0  0.1   0.02       200.0  0.749474\n",
       "1         6.0  0.1   0.01       200.0  0.750025\n",
       "9         8.0  0.1   0.01       200.0  0.750025\n",
       "2         6.0  0.1   0.02       100.0  0.751302"
      ]
     },
     "execution_count": 43,
     "metadata": {},
     "output_type": "execute_result"
    }
   ],
   "source": [
    "xgb_grid_search_result = xgb_grid_search(train_X, train_Y, test_X)\n",
    "xgb_grid_search_result.sort_values(\"loss\")[:5]"
   ]
  },
  {
   "cell_type": "code",
   "execution_count": 74,
   "metadata": {
    "collapsed": false
   },
   "outputs": [],
   "source": [
    "def xgb_combined(train_X, train_Y, test_X):\n",
    "    # parameters\n",
    "    param = {\n",
    "        'objective': 'multi:softprob', \n",
    "        'silent': 1, \n",
    "        'num_class': 5,\n",
    "        'verbose': 1,\n",
    "        'nthread': 4 \n",
    "    }\n",
    "    max_depths = [6, 8]\n",
    "    etas = [0.1, 0.2, 0.3]\n",
    "    num_rounds = [100, 200, 250]\n",
    "    gammas = [0.005, 0.01, 0.02]\n",
    "    \n",
    "    # split\n",
    "    #X_train, X_validate, y_train, y_validate = train_test_split(train_X, train_Y, test_size=0.20, random_state=123)\n",
    "    #train_set = xgb.DMatrix(X_train, label=y_train)\n",
    "    train_X = xgb.DMatrix(train_X,label=train_Y)\n",
    "    test_X = xgb.DMatrix(test_X)\n",
    "    #validate_set = xgb.DMatrix(X_validate)\n",
    "    \n",
    "    # store result\n",
    "    #result = pd.DataFrame(columns=[\"max_depth\", \"eta\", \"gamma\", \"num_rounds\", \"loss\"])\n",
    "    probs = None\n",
    "    \n",
    "    # loop\n",
    "    i = 0\n",
    "    for i1 in max_depths:\n",
    "        for i2 in etas:\n",
    "            for i3 in gammas:\n",
    "                for i4 in num_rounds:\n",
    "                    param[\"bst:max_depths\"] = i1\n",
    "                    param[\"bst:eta\"] = i2\n",
    "                    param[\"gamma\"] = i3\n",
    "\n",
    "                    # train\n",
    "                    temp_model = xgb.train(param, train_X, i4)\n",
    "                    temp_model_pred = temp_model.predict(test_X)\n",
    "\n",
    "                    # calculate loss\n",
    "                    #temp_loss = multiclass_log_loss(y_validate, temp_model_pred)\n",
    "                    #print(\"%d, %f, %d, %f, %f\" % (i1, i2, i3, i4, temp_loss))\n",
    "\n",
    "                    # write\n",
    "                    #result.loc[i] = [i1, i2, i3, i4, temp_loss]\n",
    "                    probs = temp_model_pred if probs is None else probs + temp_model_pred\n",
    "                    i += 1\n",
    "                    print(i)\n",
    "    \n",
    "    probs /= i\n",
    "    \n",
    "    # return\n",
    "    return probs#, result            "
   ]
  },
  {
   "cell_type": "code",
   "execution_count": null,
   "metadata": {
    "collapsed": true
   },
   "outputs": [],
   "source": [
    "xgb_combined_pred = xgb_combined(train_X, train_Y, test_X)"
   ]
  },
  {
   "cell_type": "code",
   "execution_count": 78,
   "metadata": {
    "collapsed": false,
    "scrolled": true
   },
   "outputs": [
    {
     "data": {
      "text/html": [
       "<div>\n",
       "<table border=\"1\" class=\"dataframe\">\n",
       "  <thead>\n",
       "    <tr style=\"text-align: right;\">\n",
       "      <th></th>\n",
       "      <th>ID</th>\n",
       "      <th>Adoption</th>\n",
       "      <th>Died</th>\n",
       "      <th>Euthanasia</th>\n",
       "      <th>Return_to_owner</th>\n",
       "      <th>Transfer</th>\n",
       "    </tr>\n",
       "  </thead>\n",
       "  <tbody>\n",
       "    <tr>\n",
       "      <th>0</th>\n",
       "      <td>1</td>\n",
       "      <td>0.018466</td>\n",
       "      <td>0.000602</td>\n",
       "      <td>0.037585</td>\n",
       "      <td>0.194873</td>\n",
       "      <td>0.748474</td>\n",
       "    </tr>\n",
       "    <tr>\n",
       "      <th>1</th>\n",
       "      <td>2</td>\n",
       "      <td>0.704308</td>\n",
       "      <td>0.000319</td>\n",
       "      <td>0.006949</td>\n",
       "      <td>0.224233</td>\n",
       "      <td>0.064190</td>\n",
       "    </tr>\n",
       "    <tr>\n",
       "      <th>2</th>\n",
       "      <td>3</td>\n",
       "      <td>0.390029</td>\n",
       "      <td>0.001051</td>\n",
       "      <td>0.008756</td>\n",
       "      <td>0.187050</td>\n",
       "      <td>0.413114</td>\n",
       "    </tr>\n",
       "    <tr>\n",
       "      <th>3</th>\n",
       "      <td>4</td>\n",
       "      <td>0.230126</td>\n",
       "      <td>0.000620</td>\n",
       "      <td>0.012688</td>\n",
       "      <td>0.245976</td>\n",
       "      <td>0.510590</td>\n",
       "    </tr>\n",
       "    <tr>\n",
       "      <th>4</th>\n",
       "      <td>5</td>\n",
       "      <td>0.460555</td>\n",
       "      <td>0.000424</td>\n",
       "      <td>0.004292</td>\n",
       "      <td>0.444040</td>\n",
       "      <td>0.090690</td>\n",
       "    </tr>\n",
       "  </tbody>\n",
       "</table>\n",
       "</div>"
      ],
      "text/plain": [
       "   ID  Adoption      Died  Euthanasia  Return_to_owner  Transfer\n",
       "0   1  0.018466  0.000602    0.037585         0.194873  0.748474\n",
       "1   2  0.704308  0.000319    0.006949         0.224233  0.064190\n",
       "2   3  0.390029  0.001051    0.008756         0.187050  0.413114\n",
       "3   4  0.230126  0.000620    0.012688         0.245976  0.510590\n",
       "4   5  0.460555  0.000424    0.004292         0.444040  0.090690"
      ]
     },
     "execution_count": 78,
     "metadata": {},
     "output_type": "execute_result"
    }
   ],
   "source": [
    "# submission\n",
    "xgb_combined_submission = create_submission(xgb_combined_pred)\n",
    "xgb_combined_submission.head(5)"
   ]
  },
  {
   "cell_type": "code",
   "execution_count": 79,
   "metadata": {
    "collapsed": true
   },
   "outputs": [],
   "source": [
    "model_xgb_submission.to_csv(\"submission/model_xgb_combined.csv\",index=False)"
   ]
  },
  {
   "cell_type": "markdown",
   "metadata": {
    "collapsed": true
   },
   "source": [
    "## keras neural network"
   ]
  },
  {
   "cell_type": "code",
   "execution_count": 250,
   "metadata": {
    "collapsed": true
   },
   "outputs": [],
   "source": [
    "input_dim = train_X.shape[1]"
   ]
  },
  {
   "cell_type": "code",
   "execution_count": 259,
   "metadata": {
    "collapsed": false
   },
   "outputs": [],
   "source": [
    "model = Sequential()\n",
    "\n",
    "model.add(Embedding(1000, 128, input_length=input_dim, dropout=0.2))\n",
    "model.add(LSTM(128, dropout_W=0.2, dropout_U=0.2))\n",
    "model.add(Dense(5))\n",
    "model.add(Activation('sigmoid'))"
   ]
  },
  {
   "cell_type": "code",
   "execution_count": 260,
   "metadata": {
    "collapsed": false
   },
   "outputs": [],
   "source": [
    "sgd = SGD(lr=0.1, decay=1e-6, momentum=0.9, nesterov=True)\n",
    "model.compile(\n",
    "    loss='categorical_crossentropy', \n",
    "    optimizer=sgd, \n",
    "    metrics=['accuracy']\n",
    ")"
   ]
  },
  {
   "cell_type": "code",
   "execution_count": 262,
   "metadata": {
    "collapsed": false,
    "scrolled": false
   },
   "outputs": [],
   "source": [
    "train_Y_keras = to_categorical(train_Y)\n",
    "model.fit(np.array(train_X), train_Y_keras, nb_epoch=1)"
   ]
  },
  {
   "cell_type": "code",
   "execution_count": 133,
   "metadata": {
    "collapsed": false
   },
   "outputs": [],
   "source": [
    "model_pred = model.predict(np.array(test_X))"
   ]
  },
  {
   "cell_type": "code",
   "execution_count": 134,
   "metadata": {
    "collapsed": false
   },
   "outputs": [
    {
     "data": {
      "text/html": [
       "<div>\n",
       "<table border=\"1\" class=\"dataframe\">\n",
       "  <thead>\n",
       "    <tr style=\"text-align: right;\">\n",
       "      <th></th>\n",
       "      <th>ID</th>\n",
       "      <th>Adoption</th>\n",
       "      <th>Died</th>\n",
       "      <th>Euthanasia</th>\n",
       "      <th>Return_to_owner</th>\n",
       "      <th>Transfer</th>\n",
       "    </tr>\n",
       "  </thead>\n",
       "  <tbody>\n",
       "    <tr>\n",
       "      <th>0</th>\n",
       "      <td>1</td>\n",
       "      <td>0.0</td>\n",
       "      <td>0.0</td>\n",
       "      <td>0.0</td>\n",
       "      <td>0.0</td>\n",
       "      <td>1.0</td>\n",
       "    </tr>\n",
       "    <tr>\n",
       "      <th>1</th>\n",
       "      <td>2</td>\n",
       "      <td>0.0</td>\n",
       "      <td>0.0</td>\n",
       "      <td>0.0</td>\n",
       "      <td>0.0</td>\n",
       "      <td>1.0</td>\n",
       "    </tr>\n",
       "    <tr>\n",
       "      <th>2</th>\n",
       "      <td>3</td>\n",
       "      <td>0.0</td>\n",
       "      <td>0.0</td>\n",
       "      <td>0.0</td>\n",
       "      <td>0.0</td>\n",
       "      <td>1.0</td>\n",
       "    </tr>\n",
       "    <tr>\n",
       "      <th>3</th>\n",
       "      <td>4</td>\n",
       "      <td>0.0</td>\n",
       "      <td>0.0</td>\n",
       "      <td>0.0</td>\n",
       "      <td>0.0</td>\n",
       "      <td>1.0</td>\n",
       "    </tr>\n",
       "    <tr>\n",
       "      <th>4</th>\n",
       "      <td>5</td>\n",
       "      <td>0.0</td>\n",
       "      <td>0.0</td>\n",
       "      <td>0.0</td>\n",
       "      <td>0.0</td>\n",
       "      <td>1.0</td>\n",
       "    </tr>\n",
       "  </tbody>\n",
       "</table>\n",
       "</div>"
      ],
      "text/plain": [
       "   ID  Adoption  Died  Euthanasia  Return_to_owner  Transfer\n",
       "0   1       0.0   0.0         0.0              0.0       1.0\n",
       "1   2       0.0   0.0         0.0              0.0       1.0\n",
       "2   3       0.0   0.0         0.0              0.0       1.0\n",
       "3   4       0.0   0.0         0.0              0.0       1.0\n",
       "4   5       0.0   0.0         0.0              0.0       1.0"
      ]
     },
     "execution_count": 134,
     "metadata": {},
     "output_type": "execute_result"
    }
   ],
   "source": [
    "model_pred_submission = create_submission(model_pred)\n",
    "model_pred_submission.head(5)"
   ]
  },
  {
   "cell_type": "code",
   "execution_count": 109,
   "metadata": {
    "collapsed": true
   },
   "outputs": [],
   "source": [
    "model_pred_submission.to_csv(\"submission/model_keras_nn_3.csv\",index=False)"
   ]
  },
  {
   "cell_type": "markdown",
   "metadata": {
    "collapsed": false
   },
   "source": [
    "## emsemble submissions"
   ]
  },
  {
   "cell_type": "code",
   "execution_count": 51,
   "metadata": {
    "collapsed": false
   },
   "outputs": [
    {
     "name": "stdout",
     "output_type": "stream",
     "text": [
      "['submission/combined_submission_1.csv', 'submission/model_xgb_combined.csv', 'submission/model_xgb_gamma_0.01.csv', 'submission/model_xgb_gamma_0.02.csv', 'submission/model_xgb_nround10.csv', 'submission/model_xgb_nround1000.csv', 'submission/model_xgb_nround125.csv', 'submission/model_xgb_r_mine.csv', 'submission/model_xgb_smote_data.csv', 'submission/model_xgb_smote_data_2.csv', 'submission/model_xgb_time_name_initial_nround200.csv', 'submission/model_xgb_time_name_initial_nround200_1.csv', 'submission/model_xgb_time_name_initial_nround200_2.csv', 'submission/model_xgb_time_name_nround200.csv', 'submission/model_xgb_time_nround150.csv', 'submission/model_xgb_train_clean2_1.csv']\n"
     ]
    }
   ],
   "source": [
    "all_subs = os.listdir(\"submission/\")[1:]\n",
    "all_subs = [\"submission/\"+x for x in all_subs]\n",
    "print(all_subs)"
   ]
  },
  {
   "cell_type": "code",
   "execution_count": 57,
   "metadata": {
    "collapsed": false
   },
   "outputs": [
    {
     "name": "stdout",
     "output_type": "stream",
     "text": [
      "[[ 0.03542814  0.01860565  0.05643968  0.17548523  0.67562354]\n",
      " [ 0.57270935  0.01731569  0.02354728  0.25421036  0.08703435]\n",
      " [ 0.3580849   0.01742549  0.02636353  0.16100393  0.36471219]\n",
      " [ 0.16082326  0.01646131  0.04220834  0.17344242  0.53159107]\n",
      " [ 0.41902036  0.01631312  0.02116244  0.36852462  0.10829876]]\n",
      "   ID  Adoption      Died  Euthanasia  Return_to_owner  Transfer\n",
      "0   1  0.035428  0.018606    0.056440         0.175485  0.675624\n",
      "1   2  0.572709  0.017316    0.023547         0.254210  0.087034\n",
      "2   3  0.358085  0.017425    0.026364         0.161004  0.364712\n",
      "3   4  0.160823  0.016461    0.042208         0.173442  0.531591\n",
      "4   5  0.419020  0.016313    0.021162         0.368525  0.108299\n"
     ]
    }
   ],
   "source": [
    "def combine_subs(lst):\n",
    "    num = len(lst)\n",
    "    result = np.zeros((11456,5))\n",
    "    for f in all_subs:\n",
    "        if pd.read_csv(f).ix[0,-1] < 0.75:\n",
    "            this_df = np.array(pd.read_csv(f).ix[:,1:6])\n",
    "            result += this_df\n",
    "        else:\n",
    "            num -= 1\n",
    "    result = result / float(num)\n",
    "    print(result[:5])\n",
    "    sub = create_submission(result)\n",
    "    print(sub[:5])\n",
    "    sub.to_csv(\"submission/combined_submission_2.csv\",index=False)\n",
    "\n",
    "combine_subs(all_subs)"
   ]
  },
  {
   "cell_type": "code",
   "execution_count": null,
   "metadata": {
    "collapsed": false
   },
   "outputs": [],
   "source": []
  },
  {
   "cell_type": "code",
   "execution_count": null,
   "metadata": {
    "collapsed": true
   },
   "outputs": [],
   "source": []
  }
 ],
 "metadata": {
  "kernelspec": {
   "display_name": "Python 3",
   "language": "python",
   "name": "python3"
  },
  "language_info": {
   "codemirror_mode": {
    "name": "ipython",
    "version": 3
   },
   "file_extension": ".py",
   "mimetype": "text/x-python",
   "name": "python",
   "nbconvert_exporter": "python",
   "pygments_lexer": "ipython3",
   "version": "3.5.1"
  }
 },
 "nbformat": 4,
 "nbformat_minor": 0
}
